{
 "cells": [
  {
   "cell_type": "markdown",
   "metadata": {},
   "source": [
    "# Arcelor-Mittal Takeover Case"
   ]
  },
  {
   "cell_type": "code",
   "execution_count": 2,
   "metadata": {},
   "outputs": [],
   "source": [
    "import pandas as pd\n",
    "import xlrd"
   ]
  },
  {
   "cell_type": "code",
   "execution_count": 3,
   "metadata": {},
   "outputs": [],
   "source": [
    "import numpy as np\n",
    "import matplotlib.pyplot as plt\n",
    "import random\n",
    "import math\n",
    "import statistics\n",
    "import seaborn as sns"
   ]
  },
  {
   "cell_type": "code",
   "execution_count": 5,
   "metadata": {},
   "outputs": [],
   "source": [
    "import tabula"
   ]
  },
  {
   "cell_type": "code",
   "execution_count": 22,
   "metadata": {},
   "outputs": [],
   "source": [
    "import warnings\n",
    "warnings.filterwarnings(\"ignore\")"
   ]
  },
  {
   "cell_type": "code",
   "execution_count": null,
   "metadata": {},
   "outputs": [],
   "source": []
  },
  {
   "cell_type": "markdown",
   "metadata": {},
   "source": [
    "# Q1\n",
    "What  is  the  market’s  estimate  of  the  synergy  in  the  merger? Use  different  assumptions  about  the  measurement  horizon.  Note that before the first acquisition attempt there were 640 million  shares  of  Arcelor  and  704  million  shares  of  Mittal outstanding."
   ]
  },
  {
   "cell_type": "code",
   "execution_count": 69,
   "metadata": {},
   "outputs": [],
   "source": [
    "shs_arc = 640\n",
    "shs_mit = 704"
   ]
  },
  {
   "cell_type": "code",
   "execution_count": 19,
   "metadata": {},
   "outputs": [],
   "source": [
    "# tabula.read_pdf(\"S9.1_ACF_Arcelor_Mittal_Takeover.pdf\", pages=11, pandas_options={\"header\":None})[0]"
   ]
  },
  {
   "cell_type": "code",
   "execution_count": 20,
   "metadata": {},
   "outputs": [],
   "source": [
    "# tabula.read_pdf(\"S9.1_ACF_Arcelor_Mittal_Takeover.pdf\", pages=12, pandas_options={\"header\":None})[0]"
   ]
  },
  {
   "cell_type": "code",
   "execution_count": 21,
   "metadata": {},
   "outputs": [],
   "source": [
    "# tabula.read_pdf(\"S9.1_ACF_Arcelor_Mittal_Takeover.pdf\", pages=13, pandas_options={\"header\":None})[0]"
   ]
  },
  {
   "cell_type": "code",
   "execution_count": null,
   "metadata": {},
   "outputs": [],
   "source": []
  },
  {
   "cell_type": "code",
   "execution_count": 36,
   "metadata": {},
   "outputs": [],
   "source": [
    "pg1 = tabula.read_pdf(\"S9.1_ACF_Arcelor_Mittal_Takeover.pdf\", pages=11, pandas_options={\"header\":None})[0]\n",
    "pg1.drop(index=0, inplace=True)\n",
    "\n",
    "pg2 = tabula.read_pdf(\"S9.1_ACF_Arcelor_Mittal_Takeover.pdf\", pages=12, pandas_options={\"header\":None})[0]\n",
    "\n",
    "pg3 = tabula.read_pdf(\"S9.1_ACF_Arcelor_Mittal_Takeover.pdf\", pages=13, pandas_options={\"header\":None})[0]\n",
    "pg3.drop(index=0, inplace=True)"
   ]
  },
  {
   "cell_type": "code",
   "execution_count": 28,
   "metadata": {},
   "outputs": [],
   "source": [
    "stock_returns = pd.concat([pg1, pg2, pg3], ignore_index=True)"
   ]
  },
  {
   "cell_type": "code",
   "execution_count": 30,
   "metadata": {},
   "outputs": [],
   "source": [
    "stock_returns.columns = [\"Date\", \"Arcelor_Share_Price\", \"Arcelor_Excess_Return\", \"Arcelor_Cummulative_Excess_Return\", \n",
    "                         \"Mittal_Share_Price\", \"Mittal_Excess_Return\", \"Mittal_Cummulative_Excess_Return\"\n",
    "                        ]"
   ]
  },
  {
   "cell_type": "code",
   "execution_count": 35,
   "metadata": {},
   "outputs": [
    {
     "data": {
      "text/html": [
       "<div>\n",
       "<style scoped>\n",
       "    .dataframe tbody tr th:only-of-type {\n",
       "        vertical-align: middle;\n",
       "    }\n",
       "\n",
       "    .dataframe tbody tr th {\n",
       "        vertical-align: top;\n",
       "    }\n",
       "\n",
       "    .dataframe thead th {\n",
       "        text-align: right;\n",
       "    }\n",
       "</style>\n",
       "<table border=\"1\" class=\"dataframe\">\n",
       "  <thead>\n",
       "    <tr style=\"text-align: right;\">\n",
       "      <th></th>\n",
       "      <th>Date</th>\n",
       "      <th>Arcelor_Share_Price</th>\n",
       "      <th>Arcelor_Excess_Return</th>\n",
       "      <th>Arcelor_Cummulative_Excess_Return</th>\n",
       "      <th>Mittal_Share_Price</th>\n",
       "      <th>Mittal_Excess_Return</th>\n",
       "      <th>Mittal_Cummulative_Excess_Return</th>\n",
       "    </tr>\n",
       "  </thead>\n",
       "  <tbody>\n",
       "    <tr>\n",
       "      <th>0</th>\n",
       "      <td>02-Jan-06</td>\n",
       "      <td>2 1.14</td>\n",
       "      <td>1%</td>\n",
       "      <td>1%</td>\n",
       "      <td>2 3.27</td>\n",
       "      <td>4%</td>\n",
       "      <td>4%</td>\n",
       "    </tr>\n",
       "    <tr>\n",
       "      <th>1</th>\n",
       "      <td>03-Jan-06</td>\n",
       "      <td>2 1.27</td>\n",
       "      <td>-2%</td>\n",
       "      <td>-1%</td>\n",
       "      <td>2 2.50</td>\n",
       "      <td>-6%</td>\n",
       "      <td>-2%</td>\n",
       "    </tr>\n",
       "    <tr>\n",
       "      <th>2</th>\n",
       "      <td>04-Jan-06</td>\n",
       "      <td>2 1.94</td>\n",
       "      <td>2%</td>\n",
       "      <td>1%</td>\n",
       "      <td>2 2.52</td>\n",
       "      <td>-1%</td>\n",
       "      <td>-3%</td>\n",
       "    </tr>\n",
       "    <tr>\n",
       "      <th>3</th>\n",
       "      <td>05-Jan-06</td>\n",
       "      <td>2 1.90</td>\n",
       "      <td>0%</td>\n",
       "      <td>1%</td>\n",
       "      <td>2 2.23</td>\n",
       "      <td>-1%</td>\n",
       "      <td>-4%</td>\n",
       "    </tr>\n",
       "    <tr>\n",
       "      <th>4</th>\n",
       "      <td>06-Jan-06</td>\n",
       "      <td>2 1.89</td>\n",
       "      <td>-1%</td>\n",
       "      <td>-1%</td>\n",
       "      <td>2 2.40</td>\n",
       "      <td>0%</td>\n",
       "      <td>-5%</td>\n",
       "    </tr>\n",
       "    <tr>\n",
       "      <th>...</th>\n",
       "      <td>...</td>\n",
       "      <td>...</td>\n",
       "      <td>...</td>\n",
       "      <td>...</td>\n",
       "      <td>...</td>\n",
       "      <td>...</td>\n",
       "      <td>...</td>\n",
       "    </tr>\n",
       "    <tr>\n",
       "      <th>147</th>\n",
       "      <td>26-Jul-06</td>\n",
       "      <td>4 3.00</td>\n",
       "      <td>8%</td>\n",
       "      <td>50%</td>\n",
       "      <td>2 6.50</td>\n",
       "      <td>3%</td>\n",
       "      <td>-12%</td>\n",
       "    </tr>\n",
       "    <tr>\n",
       "      <th>148</th>\n",
       "      <td>27-Jul-06</td>\n",
       "      <td>4 2.40</td>\n",
       "      <td>-1%</td>\n",
       "      <td>49%</td>\n",
       "      <td>2 6.40</td>\n",
       "      <td>0%</td>\n",
       "      <td>-12%</td>\n",
       "    </tr>\n",
       "    <tr>\n",
       "      <th>149</th>\n",
       "      <td>28-Jul-06</td>\n",
       "      <td>4 1.64</td>\n",
       "      <td>-4%</td>\n",
       "      <td>45%</td>\n",
       "      <td>2 6.25</td>\n",
       "      <td>-2%</td>\n",
       "      <td>-14%</td>\n",
       "    </tr>\n",
       "    <tr>\n",
       "      <th>150</th>\n",
       "      <td>31-Jul-06</td>\n",
       "      <td>4 1.75</td>\n",
       "      <td>0%</td>\n",
       "      <td>45%</td>\n",
       "      <td>2 6.60</td>\n",
       "      <td>1%</td>\n",
       "      <td>-13%</td>\n",
       "    </tr>\n",
       "    <tr>\n",
       "      <th>151</th>\n",
       "      <td>01-Aug-06</td>\n",
       "      <td>4 2.00</td>\n",
       "      <td>2%</td>\n",
       "      <td>47%</td>\n",
       "      <td>2 7.05</td>\n",
       "      <td>3%</td>\n",
       "      <td>-10%</td>\n",
       "    </tr>\n",
       "  </tbody>\n",
       "</table>\n",
       "<p>152 rows × 7 columns</p>\n",
       "</div>"
      ],
      "text/plain": [
       "          Date Arcelor_Share_Price Arcelor_Excess_Return  \\\n",
       "0    02-Jan-06              2 1.14                    1%   \n",
       "1    03-Jan-06              2 1.27                   -2%   \n",
       "2    04-Jan-06              2 1.94                    2%   \n",
       "3    05-Jan-06              2 1.90                    0%   \n",
       "4    06-Jan-06              2 1.89                   -1%   \n",
       "..         ...                 ...                   ...   \n",
       "147  26-Jul-06              4 3.00                    8%   \n",
       "148  27-Jul-06              4 2.40                   -1%   \n",
       "149  28-Jul-06              4 1.64                   -4%   \n",
       "150  31-Jul-06              4 1.75                    0%   \n",
       "151  01-Aug-06              4 2.00                    2%   \n",
       "\n",
       "    Arcelor_Cummulative_Excess_Return Mittal_Share_Price Mittal_Excess_Return  \\\n",
       "0                                  1%             2 3.27                   4%   \n",
       "1                                 -1%             2 2.50                  -6%   \n",
       "2                                  1%             2 2.52                  -1%   \n",
       "3                                  1%             2 2.23                  -1%   \n",
       "4                                 -1%             2 2.40                   0%   \n",
       "..                                ...                ...                  ...   \n",
       "147                               50%             2 6.50                   3%   \n",
       "148                               49%             2 6.40                   0%   \n",
       "149                               45%             2 6.25                  -2%   \n",
       "150                               45%             2 6.60                   1%   \n",
       "151                               47%             2 7.05                   3%   \n",
       "\n",
       "    Mittal_Cummulative_Excess_Return  \n",
       "0                                 4%  \n",
       "1                                -2%  \n",
       "2                                -3%  \n",
       "3                                -4%  \n",
       "4                                -5%  \n",
       "..                               ...  \n",
       "147                             -12%  \n",
       "148                             -12%  \n",
       "149                             -14%  \n",
       "150                             -13%  \n",
       "151                             -10%  \n",
       "\n",
       "[152 rows x 7 columns]"
      ]
     },
     "execution_count": 35,
     "metadata": {},
     "output_type": "execute_result"
    }
   ],
   "source": [
    "stock_returns"
   ]
  },
  {
   "cell_type": "code",
   "execution_count": 37,
   "metadata": {},
   "outputs": [],
   "source": [
    "stock_returns.to_csv(\"stock_returns_arcelor_mittal_Jan2006_Aug2006.csv\", index=False)"
   ]
  },
  {
   "cell_type": "code",
   "execution_count": null,
   "metadata": {},
   "outputs": [],
   "source": []
  },
  {
   "cell_type": "code",
   "execution_count": 44,
   "metadata": {},
   "outputs": [],
   "source": [
    "stock_returns = pd.read_excel(\"parsed_arcelor_mittal_stock_returns_Jan2006_Aug2006.xlsx\")"
   ]
  },
  {
   "cell_type": "code",
   "execution_count": 86,
   "metadata": {},
   "outputs": [
    {
     "data": {
      "text/html": [
       "<div>\n",
       "<style scoped>\n",
       "    .dataframe tbody tr th:only-of-type {\n",
       "        vertical-align: middle;\n",
       "    }\n",
       "\n",
       "    .dataframe tbody tr th {\n",
       "        vertical-align: top;\n",
       "    }\n",
       "\n",
       "    .dataframe thead th {\n",
       "        text-align: right;\n",
       "    }\n",
       "</style>\n",
       "<table border=\"1\" class=\"dataframe\">\n",
       "  <thead>\n",
       "    <tr style=\"text-align: right;\">\n",
       "      <th></th>\n",
       "      <th>Date</th>\n",
       "      <th>Arcelor_Share_Price</th>\n",
       "      <th>Mittal_Share_Price</th>\n",
       "      <th>Arcelor_Excess_Return</th>\n",
       "      <th>Arcelor_Cummulative_Excess_Return</th>\n",
       "      <th>Mittal_Excess_Return</th>\n",
       "      <th>Mittal_Cummulative_Excess_Return</th>\n",
       "    </tr>\n",
       "  </thead>\n",
       "  <tbody>\n",
       "    <tr>\n",
       "      <th>0</th>\n",
       "      <td>2006-01-02</td>\n",
       "      <td>21.14</td>\n",
       "      <td>23.27</td>\n",
       "      <td>0.01</td>\n",
       "      <td>0.01</td>\n",
       "      <td>0.04</td>\n",
       "      <td>0.04</td>\n",
       "    </tr>\n",
       "    <tr>\n",
       "      <th>1</th>\n",
       "      <td>2006-01-03</td>\n",
       "      <td>21.27</td>\n",
       "      <td>22.50</td>\n",
       "      <td>-0.02</td>\n",
       "      <td>-0.01</td>\n",
       "      <td>-0.06</td>\n",
       "      <td>-0.02</td>\n",
       "    </tr>\n",
       "    <tr>\n",
       "      <th>2</th>\n",
       "      <td>2006-01-04</td>\n",
       "      <td>21.94</td>\n",
       "      <td>22.52</td>\n",
       "      <td>0.02</td>\n",
       "      <td>0.01</td>\n",
       "      <td>-0.01</td>\n",
       "      <td>-0.03</td>\n",
       "    </tr>\n",
       "    <tr>\n",
       "      <th>3</th>\n",
       "      <td>2006-01-05</td>\n",
       "      <td>21.90</td>\n",
       "      <td>22.23</td>\n",
       "      <td>0.00</td>\n",
       "      <td>0.01</td>\n",
       "      <td>-0.01</td>\n",
       "      <td>-0.04</td>\n",
       "    </tr>\n",
       "    <tr>\n",
       "      <th>4</th>\n",
       "      <td>2006-01-06</td>\n",
       "      <td>21.89</td>\n",
       "      <td>22.40</td>\n",
       "      <td>-0.01</td>\n",
       "      <td>-0.01</td>\n",
       "      <td>0.00</td>\n",
       "      <td>-0.05</td>\n",
       "    </tr>\n",
       "  </tbody>\n",
       "</table>\n",
       "</div>"
      ],
      "text/plain": [
       "        Date  Arcelor_Share_Price  Mittal_Share_Price  Arcelor_Excess_Return  \\\n",
       "0 2006-01-02                21.14               23.27                   0.01   \n",
       "1 2006-01-03                21.27               22.50                  -0.02   \n",
       "2 2006-01-04                21.94               22.52                   0.02   \n",
       "3 2006-01-05                21.90               22.23                   0.00   \n",
       "4 2006-01-06                21.89               22.40                  -0.01   \n",
       "\n",
       "   Arcelor_Cummulative_Excess_Return  Mittal_Excess_Return  \\\n",
       "0                               0.01                  0.04   \n",
       "1                              -0.01                 -0.06   \n",
       "2                               0.01                 -0.01   \n",
       "3                               0.01                 -0.01   \n",
       "4                              -0.01                  0.00   \n",
       "\n",
       "   Mittal_Cummulative_Excess_Return  \n",
       "0                              0.04  \n",
       "1                             -0.02  \n",
       "2                             -0.03  \n",
       "3                             -0.04  \n",
       "4                             -0.05  "
      ]
     },
     "execution_count": 86,
     "metadata": {},
     "output_type": "execute_result"
    }
   ],
   "source": [
    "stock_returns.head()"
   ]
  },
  {
   "cell_type": "code",
   "execution_count": 141,
   "metadata": {},
   "outputs": [
    {
     "data": {
      "text/plain": [
       "<matplotlib.legend.Legend at 0x7f86b54ddc10>"
      ]
     },
     "execution_count": 141,
     "metadata": {},
     "output_type": "execute_result"
    },
    {
     "data": {
      "image/png": "[encoded data removed]",
      "text/plain": [
       "<Figure size 1296x720 with 1 Axes>"
      ]
     },
     "metadata": {
      "needs_background": "light"
     },
     "output_type": "display_data"
    }
   ],
   "source": [
    "plt.figure(figsize=(18,10))\n",
    "plt.plot(stock_returns.Date, stock_returns.Arcelor_Share_Price, label=\"Arcelor Stock Price\", scaley=False)\n",
    "plt.plot(stock_returns.Date, stock_returns.Mittal_Share_Price, label=\"Mittal Share Price\")\n",
    "plt.vlines(x='2006-01-26', ymin=10, ymax=50, label=\"Announcement\", color=\"green\")\n",
    "plt.vlines(x='2006-07-14', ymin=10, ymax=50, label=\"Tender Offer Exp\", color=\"red\")\n",
    "plt.legend(loc=\"upper left\")"
   ]
  },
  {
   "cell_type": "code",
   "execution_count": 53,
   "metadata": {},
   "outputs": [
    {
     "data": {
      "text/plain": [
       "<matplotlib.axes._subplots.AxesSubplot at 0x7f86c44183d0>"
      ]
     },
     "execution_count": 53,
     "metadata": {},
     "output_type": "execute_result"
    },
    {
     "data": {
      "image/png": "[encoded data removed]",
      "text/plain": [
       "<Figure size 1152x720 with 1 Axes>"
      ]
     },
     "metadata": {
      "needs_background": "light"
     },
     "output_type": "display_data"
    }
   ],
   "source": [
    "\n",
    "stock_returns[[\"Arcelor_Share_Price\", \"Mittal_Share_Price\"]].plot(figsize=(16,10), ylim=(0,45))"
   ]
  },
  {
   "cell_type": "code",
   "execution_count": 78,
   "metadata": {},
   "outputs": [
    {
     "data": {
      "text/plain": [
       "<matplotlib.axes._subplots.AxesSubplot at 0x7f86c1a23890>"
      ]
     },
     "execution_count": 78,
     "metadata": {},
     "output_type": "execute_result"
    },
    {
     "data": {
      "image/png": "[encoded data removed]",
      "text/plain": [
       "<Figure size 1152x720 with 1 Axes>"
      ]
     },
     "metadata": {
      "needs_background": "light"
     },
     "output_type": "display_data"
    }
   ],
   "source": [
    "stock_returns[[\"Arcelor_Cummulative_Excess_Return\", \"Mittal_Cummulative_Excess_Return\"]].plot(figsize=(16,10))"
   ]
  },
  {
   "cell_type": "code",
   "execution_count": 87,
   "metadata": {},
   "outputs": [
    {
     "data": {
      "text/html": [
       "<div>\n",
       "<style scoped>\n",
       "    .dataframe tbody tr th:only-of-type {\n",
       "        vertical-align: middle;\n",
       "    }\n",
       "\n",
       "    .dataframe tbody tr th {\n",
       "        vertical-align: top;\n",
       "    }\n",
       "\n",
       "    .dataframe thead th {\n",
       "        text-align: right;\n",
       "    }\n",
       "</style>\n",
       "<table border=\"1\" class=\"dataframe\">\n",
       "  <thead>\n",
       "    <tr style=\"text-align: right;\">\n",
       "      <th></th>\n",
       "      <th>Date</th>\n",
       "      <th>Arcelor_Share_Price</th>\n",
       "      <th>Mittal_Share_Price</th>\n",
       "      <th>Arcelor_Excess_Return</th>\n",
       "      <th>Arcelor_Cummulative_Excess_Return</th>\n",
       "      <th>Mittal_Excess_Return</th>\n",
       "      <th>Mittal_Cummulative_Excess_Return</th>\n",
       "    </tr>\n",
       "  </thead>\n",
       "  <tbody>\n",
       "    <tr>\n",
       "      <th>139</th>\n",
       "      <td>2006-07-14</td>\n",
       "      <td>39.04</td>\n",
       "      <td>25.4</td>\n",
       "      <td>0.01</td>\n",
       "      <td>0.42</td>\n",
       "      <td>-0.05</td>\n",
       "      <td>-0.14</td>\n",
       "    </tr>\n",
       "  </tbody>\n",
       "</table>\n",
       "</div>"
      ],
      "text/plain": [
       "          Date  Arcelor_Share_Price  Mittal_Share_Price  \\\n",
       "139 2006-07-14                39.04                25.4   \n",
       "\n",
       "     Arcelor_Excess_Return  Arcelor_Cummulative_Excess_Return  \\\n",
       "139                   0.01                               0.42   \n",
       "\n",
       "     Mittal_Excess_Return  Mittal_Cummulative_Excess_Return  \n",
       "139                 -0.05                             -0.14  "
      ]
     },
     "execution_count": 87,
     "metadata": {},
     "output_type": "execute_result"
    }
   ],
   "source": [
    "stock_returns.loc[stock_returns.Date == '2006-07-14']"
   ]
  },
  {
   "cell_type": "code",
   "execution_count": 88,
   "metadata": {},
   "outputs": [],
   "source": [
    "mit_gain = 23.27 * shs_mit * stock_returns.Mittal_Cummulative_Excess_Return[139]"
   ]
  },
  {
   "cell_type": "code",
   "execution_count": 89,
   "metadata": {},
   "outputs": [],
   "source": [
    "arc_gain = 21.14 * shs_arc * (1+stock_returns.Arcelor_Cummulative_Excess_Return[139])"
   ]
  },
  {
   "cell_type": "code",
   "execution_count": 90,
   "metadata": {},
   "outputs": [
    {
     "data": {
      "text/plain": [
       "(19212.032, -2293.4912000000004)"
      ]
     },
     "execution_count": 90,
     "metadata": {},
     "output_type": "execute_result"
    }
   ],
   "source": [
    "arc_gain, mit_gain"
   ]
  },
  {
   "cell_type": "code",
   "execution_count": 91,
   "metadata": {},
   "outputs": [
    {
     "data": {
      "text/plain": [
       "16918.5408"
      ]
     },
     "execution_count": 91,
     "metadata": {},
     "output_type": "execute_result"
    }
   ],
   "source": [
    "arc_gain + mit_gain"
   ]
  },
  {
   "cell_type": "code",
   "execution_count": 100,
   "metadata": {},
   "outputs": [],
   "source": [
    "# Announcement bid came on Jan 27 to Jan 28"
   ]
  },
  {
   "cell_type": "code",
   "execution_count": 114,
   "metadata": {},
   "outputs": [
    {
     "data": {
      "text/html": [
       "<div>\n",
       "<style scoped>\n",
       "    .dataframe tbody tr th:only-of-type {\n",
       "        vertical-align: middle;\n",
       "    }\n",
       "\n",
       "    .dataframe tbody tr th {\n",
       "        vertical-align: top;\n",
       "    }\n",
       "\n",
       "    .dataframe thead th {\n",
       "        text-align: right;\n",
       "    }\n",
       "</style>\n",
       "<table border=\"1\" class=\"dataframe\">\n",
       "  <thead>\n",
       "    <tr style=\"text-align: right;\">\n",
       "      <th></th>\n",
       "      <th>Date</th>\n",
       "      <th>Arcelor_Share_Price</th>\n",
       "      <th>Mittal_Share_Price</th>\n",
       "      <th>Arcelor_Excess_Return</th>\n",
       "      <th>Arcelor_Cummulative_Excess_Return</th>\n",
       "      <th>Mittal_Excess_Return</th>\n",
       "      <th>Mittal_Cummulative_Excess_Return</th>\n",
       "    </tr>\n",
       "  </thead>\n",
       "  <tbody>\n",
       "    <tr>\n",
       "      <th>0</th>\n",
       "      <td>2006-01-02</td>\n",
       "      <td>21.14</td>\n",
       "      <td>23.27</td>\n",
       "      <td>0.01</td>\n",
       "      <td>0.01</td>\n",
       "      <td>0.04</td>\n",
       "      <td>0.04</td>\n",
       "    </tr>\n",
       "    <tr>\n",
       "      <th>1</th>\n",
       "      <td>2006-01-03</td>\n",
       "      <td>21.27</td>\n",
       "      <td>22.50</td>\n",
       "      <td>-0.02</td>\n",
       "      <td>-0.01</td>\n",
       "      <td>-0.06</td>\n",
       "      <td>-0.02</td>\n",
       "    </tr>\n",
       "    <tr>\n",
       "      <th>2</th>\n",
       "      <td>2006-01-04</td>\n",
       "      <td>21.94</td>\n",
       "      <td>22.52</td>\n",
       "      <td>0.02</td>\n",
       "      <td>0.01</td>\n",
       "      <td>-0.01</td>\n",
       "      <td>-0.03</td>\n",
       "    </tr>\n",
       "    <tr>\n",
       "      <th>3</th>\n",
       "      <td>2006-01-05</td>\n",
       "      <td>21.90</td>\n",
       "      <td>22.23</td>\n",
       "      <td>0.00</td>\n",
       "      <td>0.01</td>\n",
       "      <td>-0.01</td>\n",
       "      <td>-0.04</td>\n",
       "    </tr>\n",
       "    <tr>\n",
       "      <th>4</th>\n",
       "      <td>2006-01-06</td>\n",
       "      <td>21.89</td>\n",
       "      <td>22.40</td>\n",
       "      <td>-0.01</td>\n",
       "      <td>-0.01</td>\n",
       "      <td>0.00</td>\n",
       "      <td>-0.05</td>\n",
       "    </tr>\n",
       "    <tr>\n",
       "      <th>5</th>\n",
       "      <td>2006-01-09</td>\n",
       "      <td>22.03</td>\n",
       "      <td>23.55</td>\n",
       "      <td>0.00</td>\n",
       "      <td>-0.01</td>\n",
       "      <td>0.04</td>\n",
       "      <td>-0.01</td>\n",
       "    </tr>\n",
       "    <tr>\n",
       "      <th>6</th>\n",
       "      <td>2006-01-10</td>\n",
       "      <td>22.02</td>\n",
       "      <td>23.47</td>\n",
       "      <td>0.00</td>\n",
       "      <td>-0.01</td>\n",
       "      <td>0.00</td>\n",
       "      <td>-0.01</td>\n",
       "    </tr>\n",
       "    <tr>\n",
       "      <th>7</th>\n",
       "      <td>2006-01-11</td>\n",
       "      <td>22.14</td>\n",
       "      <td>23.72</td>\n",
       "      <td>0.01</td>\n",
       "      <td>0.00</td>\n",
       "      <td>0.02</td>\n",
       "      <td>0.01</td>\n",
       "    </tr>\n",
       "    <tr>\n",
       "      <th>8</th>\n",
       "      <td>2006-01-12</td>\n",
       "      <td>22.11</td>\n",
       "      <td>23.67</td>\n",
       "      <td>0.02</td>\n",
       "      <td>0.02</td>\n",
       "      <td>0.02</td>\n",
       "      <td>0.03</td>\n",
       "    </tr>\n",
       "    <tr>\n",
       "      <th>9</th>\n",
       "      <td>2006-01-13</td>\n",
       "      <td>21.91</td>\n",
       "      <td>23.67</td>\n",
       "      <td>0.00</td>\n",
       "      <td>0.02</td>\n",
       "      <td>0.01</td>\n",
       "      <td>0.03</td>\n",
       "    </tr>\n",
       "    <tr>\n",
       "      <th>10</th>\n",
       "      <td>2006-01-16</td>\n",
       "      <td>21.27</td>\n",
       "      <td>23.62</td>\n",
       "      <td>-0.03</td>\n",
       "      <td>-0.01</td>\n",
       "      <td>0.00</td>\n",
       "      <td>0.03</td>\n",
       "    </tr>\n",
       "    <tr>\n",
       "      <th>11</th>\n",
       "      <td>2006-01-17</td>\n",
       "      <td>21.08</td>\n",
       "      <td>23.74</td>\n",
       "      <td>-0.01</td>\n",
       "      <td>-0.02</td>\n",
       "      <td>0.00</td>\n",
       "      <td>0.03</td>\n",
       "    </tr>\n",
       "    <tr>\n",
       "      <th>12</th>\n",
       "      <td>2006-01-18</td>\n",
       "      <td>20.86</td>\n",
       "      <td>23.22</td>\n",
       "      <td>0.00</td>\n",
       "      <td>-0.03</td>\n",
       "      <td>-0.01</td>\n",
       "      <td>0.02</td>\n",
       "    </tr>\n",
       "    <tr>\n",
       "      <th>13</th>\n",
       "      <td>2006-01-19</td>\n",
       "      <td>21.12</td>\n",
       "      <td>23.61</td>\n",
       "      <td>-0.01</td>\n",
       "      <td>-0.04</td>\n",
       "      <td>0.00</td>\n",
       "      <td>0.01</td>\n",
       "    </tr>\n",
       "    <tr>\n",
       "      <th>14</th>\n",
       "      <td>2006-01-20</td>\n",
       "      <td>20.99</td>\n",
       "      <td>23.50</td>\n",
       "      <td>0.01</td>\n",
       "      <td>-0.03</td>\n",
       "      <td>0.01</td>\n",
       "      <td>0.02</td>\n",
       "    </tr>\n",
       "    <tr>\n",
       "      <th>15</th>\n",
       "      <td>2006-01-23</td>\n",
       "      <td>20.91</td>\n",
       "      <td>23.38</td>\n",
       "      <td>-0.02</td>\n",
       "      <td>-0.05</td>\n",
       "      <td>-0.02</td>\n",
       "      <td>0.00</td>\n",
       "    </tr>\n",
       "    <tr>\n",
       "      <th>16</th>\n",
       "      <td>2006-01-24</td>\n",
       "      <td>21.61</td>\n",
       "      <td>24.38</td>\n",
       "      <td>-0.01</td>\n",
       "      <td>-0.06</td>\n",
       "      <td>0.00</td>\n",
       "      <td>0.00</td>\n",
       "    </tr>\n",
       "    <tr>\n",
       "      <th>17</th>\n",
       "      <td>2006-01-25</td>\n",
       "      <td>21.83</td>\n",
       "      <td>26.06</td>\n",
       "      <td>0.00</td>\n",
       "      <td>-0.06</td>\n",
       "      <td>0.06</td>\n",
       "      <td>0.06</td>\n",
       "    </tr>\n",
       "    <tr>\n",
       "      <th>18</th>\n",
       "      <td>2006-01-26</td>\n",
       "      <td>22.22</td>\n",
       "      <td>26.03</td>\n",
       "      <td>-0.01</td>\n",
       "      <td>-0.06</td>\n",
       "      <td>-0.02</td>\n",
       "      <td>0.03</td>\n",
       "    </tr>\n",
       "    <tr>\n",
       "      <th>19</th>\n",
       "      <td>2006-01-27</td>\n",
       "      <td>28.54</td>\n",
       "      <td>27.63</td>\n",
       "      <td>0.23</td>\n",
       "      <td>0.16</td>\n",
       "      <td>0.00</td>\n",
       "      <td>0.04</td>\n",
       "    </tr>\n",
       "    <tr>\n",
       "      <th>20</th>\n",
       "      <td>2006-01-30</td>\n",
       "      <td>29.75</td>\n",
       "      <td>29.69</td>\n",
       "      <td>0.05</td>\n",
       "      <td>0.21</td>\n",
       "      <td>0.08</td>\n",
       "      <td>0.12</td>\n",
       "    </tr>\n",
       "    <tr>\n",
       "      <th>21</th>\n",
       "      <td>2006-01-31</td>\n",
       "      <td>28.90</td>\n",
       "      <td>29.20</td>\n",
       "      <td>-0.03</td>\n",
       "      <td>0.18</td>\n",
       "      <td>-0.02</td>\n",
       "      <td>0.10</td>\n",
       "    </tr>\n",
       "  </tbody>\n",
       "</table>\n",
       "</div>"
      ],
      "text/plain": [
       "         Date  Arcelor_Share_Price  Mittal_Share_Price  Arcelor_Excess_Return  \\\n",
       "0  2006-01-02                21.14               23.27                   0.01   \n",
       "1  2006-01-03                21.27               22.50                  -0.02   \n",
       "2  2006-01-04                21.94               22.52                   0.02   \n",
       "3  2006-01-05                21.90               22.23                   0.00   \n",
       "4  2006-01-06                21.89               22.40                  -0.01   \n",
       "5  2006-01-09                22.03               23.55                   0.00   \n",
       "6  2006-01-10                22.02               23.47                   0.00   \n",
       "7  2006-01-11                22.14               23.72                   0.01   \n",
       "8  2006-01-12                22.11               23.67                   0.02   \n",
       "9  2006-01-13                21.91               23.67                   0.00   \n",
       "10 2006-01-16                21.27               23.62                  -0.03   \n",
       "11 2006-01-17                21.08               23.74                  -0.01   \n",
       "12 2006-01-18                20.86               23.22                   0.00   \n",
       "13 2006-01-19                21.12               23.61                  -0.01   \n",
       "14 2006-01-20                20.99               23.50                   0.01   \n",
       "15 2006-01-23                20.91               23.38                  -0.02   \n",
       "16 2006-01-24                21.61               24.38                  -0.01   \n",
       "17 2006-01-25                21.83               26.06                   0.00   \n",
       "18 2006-01-26                22.22               26.03                  -0.01   \n",
       "19 2006-01-27                28.54               27.63                   0.23   \n",
       "20 2006-01-30                29.75               29.69                   0.05   \n",
       "21 2006-01-31                28.90               29.20                  -0.03   \n",
       "\n",
       "    Arcelor_Cummulative_Excess_Return  Mittal_Excess_Return  \\\n",
       "0                                0.01                  0.04   \n",
       "1                               -0.01                 -0.06   \n",
       "2                                0.01                 -0.01   \n",
       "3                                0.01                 -0.01   \n",
       "4                               -0.01                  0.00   \n",
       "5                               -0.01                  0.04   \n",
       "6                               -0.01                  0.00   \n",
       "7                                0.00                  0.02   \n",
       "8                                0.02                  0.02   \n",
       "9                                0.02                  0.01   \n",
       "10                              -0.01                  0.00   \n",
       "11                              -0.02                  0.00   \n",
       "12                              -0.03                 -0.01   \n",
       "13                              -0.04                  0.00   \n",
       "14                              -0.03                  0.01   \n",
       "15                              -0.05                 -0.02   \n",
       "16                              -0.06                  0.00   \n",
       "17                              -0.06                  0.06   \n",
       "18                              -0.06                 -0.02   \n",
       "19                               0.16                  0.00   \n",
       "20                               0.21                  0.08   \n",
       "21                               0.18                 -0.02   \n",
       "\n",
       "    Mittal_Cummulative_Excess_Return  \n",
       "0                               0.04  \n",
       "1                              -0.02  \n",
       "2                              -0.03  \n",
       "3                              -0.04  \n",
       "4                              -0.05  \n",
       "5                              -0.01  \n",
       "6                              -0.01  \n",
       "7                               0.01  \n",
       "8                               0.03  \n",
       "9                               0.03  \n",
       "10                              0.03  \n",
       "11                              0.03  \n",
       "12                              0.02  \n",
       "13                              0.01  \n",
       "14                              0.02  \n",
       "15                              0.00  \n",
       "16                              0.00  \n",
       "17                              0.06  \n",
       "18                              0.03  \n",
       "19                              0.04  \n",
       "20                              0.12  \n",
       "21                              0.10  "
      ]
     },
     "execution_count": 114,
     "metadata": {},
     "output_type": "execute_result"
    }
   ],
   "source": [
    "stock_returns.iloc[:22]"
   ]
  },
  {
   "cell_type": "code",
   "execution_count": null,
   "metadata": {},
   "outputs": [],
   "source": []
  },
  {
   "cell_type": "code",
   "execution_count": 115,
   "metadata": {},
   "outputs": [
    {
     "data": {
      "text/plain": [
       "5510.4"
      ]
     },
     "execution_count": 115,
     "metadata": {},
     "output_type": "execute_result"
    }
   ],
   "source": [
    "# using the pre and post announcement gains\n",
    "\n",
    "(29.75-21.14) * shs_arc"
   ]
  },
  {
   "cell_type": "code",
   "execution_count": 116,
   "metadata": {},
   "outputs": [
    {
     "data": {
      "text/plain": [
       "4519.680000000001"
      ]
     },
     "execution_count": 116,
     "metadata": {},
     "output_type": "execute_result"
    }
   ],
   "source": [
    "(29.69 - 23.27) * shs_mit"
   ]
  },
  {
   "cell_type": "code",
   "execution_count": 117,
   "metadata": {},
   "outputs": [
    {
     "data": {
      "text/plain": [
       "10030.08"
      ]
     },
     "execution_count": 117,
     "metadata": {},
     "output_type": "execute_result"
    }
   ],
   "source": [
    "5510.4 + 4519.68"
   ]
  },
  {
   "cell_type": "code",
   "execution_count": 118,
   "metadata": {},
   "outputs": [
    {
     "data": {
      "text/plain": [
       "(2400.0, 4519.680000000001)"
      ]
     },
     "execution_count": 118,
     "metadata": {},
     "output_type": "execute_result"
    }
   ],
   "source": [
    "# adjust based on FP of 26\n",
    "(29.75-26) * shs_arc, (29.69 - 23.27) * shs_mit"
   ]
  },
  {
   "cell_type": "code",
   "execution_count": 119,
   "metadata": {},
   "outputs": [
    {
     "data": {
      "text/plain": [
       "6919.68"
      ]
     },
     "execution_count": 119,
     "metadata": {},
     "output_type": "execute_result"
    }
   ],
   "source": [
    "2400 + 4519.68"
   ]
  },
  {
   "cell_type": "code",
   "execution_count": null,
   "metadata": {},
   "outputs": [],
   "source": []
  },
  {
   "cell_type": "markdown",
   "metadata": {},
   "source": [
    "# Q2\n",
    "\n",
    "What is the management’s estimate of the synergy? You can use the Arcelor-Mittal valuation spreadsheet on the course website or calculate it manually \n"
   ]
  },
  {
   "cell_type": "code",
   "execution_count": 96,
   "metadata": {},
   "outputs": [],
   "source": [
    "mgmt_val = pd.read_clipboard()"
   ]
  },
  {
   "cell_type": "code",
   "execution_count": 98,
   "metadata": {},
   "outputs": [
    {
     "data": {
      "text/html": [
       "<div>\n",
       "<style scoped>\n",
       "    .dataframe tbody tr th:only-of-type {\n",
       "        vertical-align: middle;\n",
       "    }\n",
       "\n",
       "    .dataframe tbody tr th {\n",
       "        vertical-align: top;\n",
       "    }\n",
       "\n",
       "    .dataframe thead th {\n",
       "        text-align: right;\n",
       "    }\n",
       "</style>\n",
       "<table border=\"1\" class=\"dataframe\">\n",
       "  <thead>\n",
       "    <tr style=\"text-align: right;\">\n",
       "      <th></th>\n",
       "      <th>DIM</th>\n",
       "      <th>2004</th>\n",
       "      <th>2005</th>\n",
       "      <th>2006</th>\n",
       "      <th>2007</th>\n",
       "      <th>2008</th>\n",
       "      <th>2009</th>\n",
       "      <th>CV</th>\n",
       "    </tr>\n",
       "  </thead>\n",
       "  <tbody>\n",
       "    <tr>\n",
       "      <th>0</th>\n",
       "      <td>Discount Factor</td>\n",
       "      <td>0.0</td>\n",
       "      <td>0.0</td>\n",
       "      <td>1.000000</td>\n",
       "      <td>0.923088</td>\n",
       "      <td>0.852092</td>\n",
       "      <td>0.786556</td>\n",
       "      <td>0.790000</td>\n",
       "    </tr>\n",
       "    <tr>\n",
       "      <th>1</th>\n",
       "      <td>PV(FCF)</td>\n",
       "      <td>0.0</td>\n",
       "      <td>0.0</td>\n",
       "      <td>2118.439185</td>\n",
       "      <td>3893.833126</td>\n",
       "      <td>3608.278633</td>\n",
       "      <td>3851.207259</td>\n",
       "      <td>0.000000</td>\n",
       "    </tr>\n",
       "    <tr>\n",
       "      <th>2</th>\n",
       "      <td>Total PV(FCF)</td>\n",
       "      <td>0.0</td>\n",
       "      <td>0.0</td>\n",
       "      <td>13471.758203</td>\n",
       "      <td>0.000000</td>\n",
       "      <td>0.000000</td>\n",
       "      <td>0.000000</td>\n",
       "      <td>0.000000</td>\n",
       "    </tr>\n",
       "    <tr>\n",
       "      <th>3</th>\n",
       "      <td>Continuation Value (CV)</td>\n",
       "      <td>0.0</td>\n",
       "      <td>0.0</td>\n",
       "      <td>0.000000</td>\n",
       "      <td>0.000000</td>\n",
       "      <td>0.000000</td>\n",
       "      <td>0.000000</td>\n",
       "      <td>48489.691159</td>\n",
       "    </tr>\n",
       "    <tr>\n",
       "      <th>4</th>\n",
       "      <td>PV(CV)</td>\n",
       "      <td>0.0</td>\n",
       "      <td>0.0</td>\n",
       "      <td>38306.856015</td>\n",
       "      <td>0.000000</td>\n",
       "      <td>0.000000</td>\n",
       "      <td>0.000000</td>\n",
       "      <td>0.000000</td>\n",
       "    </tr>\n",
       "    <tr>\n",
       "      <th>5</th>\n",
       "      <td>Enterprise Value {=Total PV(FCF) + PV(CV)}</td>\n",
       "      <td>0.0</td>\n",
       "      <td>0.0</td>\n",
       "      <td>51778.614219</td>\n",
       "      <td>0.000000</td>\n",
       "      <td>0.000000</td>\n",
       "      <td>0.000000</td>\n",
       "      <td>0.000000</td>\n",
       "    </tr>\n",
       "    <tr>\n",
       "      <th>6</th>\n",
       "      <td>- Financial Debt</td>\n",
       "      <td>0.0</td>\n",
       "      <td>0.0</td>\n",
       "      <td>18200.000000</td>\n",
       "      <td>0.000000</td>\n",
       "      <td>0.000000</td>\n",
       "      <td>0.000000</td>\n",
       "      <td>0.000000</td>\n",
       "    </tr>\n",
       "    <tr>\n",
       "      <th>7</th>\n",
       "      <td>- Minority Interest</td>\n",
       "      <td>0.0</td>\n",
       "      <td>0.0</td>\n",
       "      <td>4334.000000</td>\n",
       "      <td>0.000000</td>\n",
       "      <td>0.000000</td>\n",
       "      <td>0.000000</td>\n",
       "      <td>0.000000</td>\n",
       "    </tr>\n",
       "    <tr>\n",
       "      <th>8</th>\n",
       "      <td>+ Affiliates</td>\n",
       "      <td>0.0</td>\n",
       "      <td>0.0</td>\n",
       "      <td>2434.000000</td>\n",
       "      <td>0.000000</td>\n",
       "      <td>0.000000</td>\n",
       "      <td>0.000000</td>\n",
       "      <td>0.000000</td>\n",
       "    </tr>\n",
       "    <tr>\n",
       "      <th>9</th>\n",
       "      <td>- Pension Obligations</td>\n",
       "      <td>0.0</td>\n",
       "      <td>0.0</td>\n",
       "      <td>2889.000000</td>\n",
       "      <td>0.000000</td>\n",
       "      <td>0.000000</td>\n",
       "      <td>0.000000</td>\n",
       "      <td>0.000000</td>\n",
       "    </tr>\n",
       "    <tr>\n",
       "      <th>10</th>\n",
       "      <td>TOTAL EQUITY VALUE</td>\n",
       "      <td>0.0</td>\n",
       "      <td>0.0</td>\n",
       "      <td>28789.614219</td>\n",
       "      <td>0.000000</td>\n",
       "      <td>0.000000</td>\n",
       "      <td>0.000000</td>\n",
       "      <td>0.000000</td>\n",
       "    </tr>\n",
       "    <tr>\n",
       "      <th>11</th>\n",
       "      <td>Estimated Shares Outstanding (millions)</td>\n",
       "      <td>0.0</td>\n",
       "      <td>0.0</td>\n",
       "      <td>1417.000000</td>\n",
       "      <td>0.000000</td>\n",
       "      <td>0.000000</td>\n",
       "      <td>0.000000</td>\n",
       "      <td>0.000000</td>\n",
       "    </tr>\n",
       "    <tr>\n",
       "      <th>12</th>\n",
       "      <td>Equity Value (EUR per Share)</td>\n",
       "      <td>0.0</td>\n",
       "      <td>0.0</td>\n",
       "      <td>20.317300</td>\n",
       "      <td>0.000000</td>\n",
       "      <td>0.000000</td>\n",
       "      <td>0.000000</td>\n",
       "      <td>0.000000</td>\n",
       "    </tr>\n",
       "  </tbody>\n",
       "</table>\n",
       "</div>"
      ],
      "text/plain": [
       "                                           DIM  2004  2005          2006  \\\n",
       "0                              Discount Factor   0.0   0.0      1.000000   \n",
       "1                                      PV(FCF)   0.0   0.0   2118.439185   \n",
       "2                                Total PV(FCF)   0.0   0.0  13471.758203   \n",
       "3                      Continuation Value (CV)   0.0   0.0      0.000000   \n",
       "4                                      PV(CV)    0.0   0.0  38306.856015   \n",
       "5   Enterprise Value {=Total PV(FCF) + PV(CV)}   0.0   0.0  51778.614219   \n",
       "6                             - Financial Debt   0.0   0.0  18200.000000   \n",
       "7                          - Minority Interest   0.0   0.0   4334.000000   \n",
       "8                                 + Affiliates   0.0   0.0   2434.000000   \n",
       "9                        - Pension Obligations   0.0   0.0   2889.000000   \n",
       "10                         TOTAL EQUITY VALUE    0.0   0.0  28789.614219   \n",
       "11     Estimated Shares Outstanding (millions)   0.0   0.0   1417.000000   \n",
       "12                Equity Value (EUR per Share)   0.0   0.0     20.317300   \n",
       "\n",
       "           2007         2008         2009            CV  \n",
       "0      0.923088     0.852092     0.786556      0.790000  \n",
       "1   3893.833126  3608.278633  3851.207259      0.000000  \n",
       "2      0.000000     0.000000     0.000000      0.000000  \n",
       "3      0.000000     0.000000     0.000000  48489.691159  \n",
       "4      0.000000     0.000000     0.000000      0.000000  \n",
       "5      0.000000     0.000000     0.000000      0.000000  \n",
       "6      0.000000     0.000000     0.000000      0.000000  \n",
       "7      0.000000     0.000000     0.000000      0.000000  \n",
       "8      0.000000     0.000000     0.000000      0.000000  \n",
       "9      0.000000     0.000000     0.000000      0.000000  \n",
       "10     0.000000     0.000000     0.000000      0.000000  \n",
       "11     0.000000     0.000000     0.000000      0.000000  \n",
       "12     0.000000     0.000000     0.000000      0.000000  "
      ]
     },
     "execution_count": 98,
     "metadata": {},
     "output_type": "execute_result"
    }
   ],
   "source": [
    "mgmt_val.fillna(0)"
   ]
  },
  {
   "attachments": {
    "image.png": {
     "image/png": "[encoded data removed]"
    }
   },
   "cell_type": "markdown",
   "metadata": {},
   "source": [
    "\t\t2004\t2005\t2006\t2007\t2008\t2009\tCV\n",
    "\t\t\t\t\t\t\t\t\n",
    "Discount Factor\t\t\t\t 1.00 \t 0.92 \t 0.85 \t 0.79 \t 0.79 \n",
    "PV(FCF)\t\t\t\t 2,118 \t 3,894 \t 3,608 \t 3,851 \t\n",
    "Total PV(FCF)\t\t\t\t 13,472 \t\t\t\t\n",
    "Continuation Value (CV)\t\t\t\t\t\t\t\t 48,490 \n",
    "PV(CV) \t\t\t\t 38,307 \t\t\t\t\n",
    "Enterprise Value {=Total PV(FCF) + PV(CV)}\t\t\t\t 51,779 \t\t\t\t\n",
    " - Financial Debt\t\t\t\t 18,200 \t\t\t\t\n",
    " - Minority Interest\t\t\t\t 4,334 \t\t\t\t\n",
    " + Affiliates\t\t\t\t 2,434 \t\t\t\t\n",
    " - Pension Obligations\t\t\t\t 2,889 \t\t\t\t\n",
    "TOTAL EQUITY VALUE \t\t\t\t 28,790 \t\t\t\t\n",
    "Estimated Shares Outstanding (millions)\t\t\t\t 1,417 \t\t\t\t\n",
    "Equity Value (EUR per Share)\t\t\t\t 20.32 \t\t\t\t\n",
    "![image.png](attachment:image.png)"
   ]
  },
  {
   "cell_type": "code",
   "execution_count": 99,
   "metadata": {},
   "outputs": [
    {
     "data": {
      "text/plain": [
       "1344"
      ]
     },
     "execution_count": 99,
     "metadata": {},
     "output_type": "execute_result"
    }
   ],
   "source": [
    "shs_arc + shs_mit"
   ]
  },
  {
   "cell_type": "code",
   "execution_count": 120,
   "metadata": {},
   "outputs": [
    {
     "data": {
      "text/plain": [
       "29911.68"
      ]
     },
     "execution_count": 120,
     "metadata": {},
     "output_type": "execute_result"
    }
   ],
   "source": [
    "21.14 * shs_arc + 23.27 * shs_mit"
   ]
  },
  {
   "cell_type": "code",
   "execution_count": 121,
   "metadata": {},
   "outputs": [],
   "source": [
    "# mgmt \n",
    "# year 1 = 0.5 B\n",
    "# year 2 = 0.9 B\n",
    "# year 3 on wards = 1.3 B"
   ]
  },
  {
   "cell_type": "code",
   "execution_count": 122,
   "metadata": {},
   "outputs": [],
   "source": [
    "wacc = 0.08"
   ]
  },
  {
   "cell_type": "code",
   "execution_count": 123,
   "metadata": {},
   "outputs": [
    {
     "data": {
      "text/plain": [
       "12.891795778064116"
      ]
     },
     "execution_count": 123,
     "metadata": {},
     "output_type": "execute_result"
    }
   ],
   "source": [
    "sum([1.3/1.08**x for x in range(4,100)])"
   ]
  },
  {
   "cell_type": "code",
   "execution_count": 124,
   "metadata": {},
   "outputs": [
    {
     "data": {
      "text/plain": [
       "14.161604938271605"
      ]
     },
     "execution_count": 124,
     "metadata": {},
     "output_type": "execute_result"
    }
   ],
   "source": [
    "0.5 + 0.9/1.08**2 + 12.89"
   ]
  },
  {
   "cell_type": "markdown",
   "metadata": {},
   "source": [
    "# Q3\n",
    "Given this information what should the be the maximum price Mittal can pay per share of Arcelor without destroying shareholder value?"
   ]
  },
  {
   "cell_type": "code",
   "execution_count": 152,
   "metadata": {},
   "outputs": [
    {
     "data": {
      "text/plain": [
       "22.1275"
      ]
     },
     "execution_count": 152,
     "metadata": {},
     "output_type": "execute_result"
    }
   ],
   "source": [
    "14161.6/640"
   ]
  },
  {
   "cell_type": "code",
   "execution_count": 144,
   "metadata": {},
   "outputs": [
    {
     "data": {
      "text/plain": [
       "7.0808"
      ]
     },
     "execution_count": 144,
     "metadata": {},
     "output_type": "execute_result"
    }
   ],
   "source": [
    "14.1616/2"
   ]
  },
  {
   "cell_type": "code",
   "execution_count": 145,
   "metadata": {},
   "outputs": [
    {
     "data": {
      "text/plain": [
       "11.0640625"
      ]
     },
     "execution_count": 145,
     "metadata": {},
     "output_type": "execute_result"
    }
   ],
   "source": [
    "7081/640"
   ]
  },
  {
   "cell_type": "code",
   "execution_count": 147,
   "metadata": {},
   "outputs": [
    {
     "data": {
      "text/plain": [
       "22.22"
      ]
     },
     "execution_count": 147,
     "metadata": {},
     "output_type": "execute_result"
    }
   ],
   "source": [
    "# Arcelor stock price before announcement \n",
    "22.22"
   ]
  },
  {
   "cell_type": "code",
   "execution_count": 148,
   "metadata": {},
   "outputs": [
    {
     "data": {
      "text/plain": [
       "33.284"
      ]
     },
     "execution_count": 148,
     "metadata": {},
     "output_type": "execute_result"
    }
   ],
   "source": [
    "22.22 + 11.064"
   ]
  },
  {
   "cell_type": "code",
   "execution_count": 153,
   "metadata": {},
   "outputs": [
    {
     "data": {
      "text/plain": [
       "44.3475"
      ]
     },
     "execution_count": 153,
     "metadata": {},
     "output_type": "execute_result"
    }
   ],
   "source": [
    "22.22 + 22.1275"
   ]
  },
  {
   "cell_type": "markdown",
   "metadata": {},
   "source": [
    "# Q4\n",
    "How does the market react to the various takeover defences employed by Arcelor? Calculate the abnormal returns starting one day before the announcement day until one day after around every major anti-takeover defence announcement. Which of the defensive tactics can be considered as a way to obtain a higher bid, rather than preserve independence at any cost? Use Arcelor Exhibit B that is posted on the website "
   ]
  },
  {
   "cell_type": "code",
   "execution_count": null,
   "metadata": {},
   "outputs": [],
   "source": []
  },
  {
   "cell_type": "code",
   "execution_count": null,
   "metadata": {},
   "outputs": [],
   "source": []
  },
  {
   "cell_type": "code",
   "execution_count": null,
   "metadata": {},
   "outputs": [],
   "source": []
  },
  {
   "cell_type": "code",
   "execution_count": null,
   "metadata": {},
   "outputs": [],
   "source": []
  },
  {
   "cell_type": "code",
   "execution_count": null,
   "metadata": {},
   "outputs": [],
   "source": []
  },
  {
   "cell_type": "code",
   "execution_count": null,
   "metadata": {},
   "outputs": [],
   "source": []
  },
  {
   "cell_type": "markdown",
   "metadata": {},
   "source": [
    "# Q5\n",
    "\n",
    "Why does a repurchase tender offer not increase stock prices, in contrast to the typical case?"
   ]
  },
  {
   "cell_type": "markdown",
   "metadata": {},
   "source": [
    "Total wealth created for all shareholders is best measured by the total _abnormal_ return $Total_R$\n",
    "\n",
    "$$\n",
    "  Total_R = F_p * repurchasePremium + (1-F_p)*CAR\n",
    "$$"
   ]
  },
  {
   "cell_type": "markdown",
   "metadata": {},
   "source": [
    "Tender offers which predicted that the total abnormal return to all shareholders could be predicted by the following regression:\n",
    "\n",
    "$$\n",
    "  Total_R = 0.6*Premium + 0.25*PercOfSharesRepurchased\n",
    "$$"
   ]
  },
  {
   "cell_type": "code",
   "execution_count": 154,
   "metadata": {},
   "outputs": [
    {
     "data": {
      "text/plain": [
       "0.8001800180018003"
      ]
     },
     "execution_count": 154,
     "metadata": {},
     "output_type": "execute_result"
    }
   ],
   "source": [
    "# stock before announcement was 22.22\n",
    "(40 - 22.22) / 22.22"
   ]
  },
  {
   "cell_type": "code",
   "execution_count": 161,
   "metadata": {},
   "outputs": [
    {
     "data": {
      "text/plain": [
       "0.47619047619047616"
      ]
     },
     "execution_count": 161,
     "metadata": {},
     "output_type": "execute_result"
    }
   ],
   "source": [
    "shs_arc / (shs_arc + shs_mit)"
   ]
  },
  {
   "cell_type": "code",
   "execution_count": 162,
   "metadata": {},
   "outputs": [
    {
     "data": {
      "text/plain": [
       "0.5991580108010801"
      ]
     },
     "execution_count": 162,
     "metadata": {},
     "output_type": "execute_result"
    }
   ],
   "source": [
    "r_premium = 0.8001800180018003\n",
    "0.6 * r_premium + 0.25 * .4762"
   ]
  },
  {
   "cell_type": "code",
   "execution_count": 163,
   "metadata": {},
   "outputs": [
    {
     "data": {
      "text/plain": [
       "35.533291"
      ]
     },
     "execution_count": 163,
     "metadata": {},
     "output_type": "execute_result"
    }
   ],
   "source": [
    "22.22 * 1.5991580108010801"
   ]
  },
  {
   "cell_type": "code",
   "execution_count": null,
   "metadata": {},
   "outputs": [],
   "source": []
  },
  {
   "cell_type": "code",
   "execution_count": null,
   "metadata": {},
   "outputs": [],
   "source": []
  },
  {
   "cell_type": "code",
   "execution_count": null,
   "metadata": {},
   "outputs": [],
   "source": []
  },
  {
   "cell_type": "markdown",
   "metadata": {},
   "source": [
    "# Q6\n",
    "\n",
    "Evaluate Mittal’s financing strategy of the bid using the post-acquisition capital structure information."
   ]
  },
  {
   "cell_type": "code",
   "execution_count": null,
   "metadata": {},
   "outputs": [],
   "source": []
  },
  {
   "cell_type": "code",
   "execution_count": null,
   "metadata": {},
   "outputs": [],
   "source": []
  }
 ],
 "metadata": {
  "kernelspec": {
   "display_name": "Python 3",
   "language": "python",
   "name": "python3"
  },
  "language_info": {
   "codemirror_mode": {
    "name": "ipython",
    "version": 3
   },
   "file_extension": ".py",
   "mimetype": "text/x-python",
   "name": "python",
   "nbconvert_exporter": "python",
   "pygments_lexer": "ipython3",
   "version": "3.7.4"
  }
 },
 "nbformat": 4,
 "nbformat_minor": 4
}
