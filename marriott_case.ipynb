{
 "nbformat": 4,
 "nbformat_minor": 2,
 "metadata": {
  "language_info": {
   "name": "python",
   "codemirror_mode": {
    "name": "ipython",
    "version": 3
   },
   "version": "3.7.4-final"
  },
  "orig_nbformat": 2,
  "file_extension": ".py",
  "mimetype": "text/x-python",
  "name": "python",
  "npconvert_exporter": "python",
  "pygments_lexer": "ipython3",
  "version": 3,
  "kernelspec": {
   "name": "python37464bitbaseconda2aa1bda3c32c42b9bdeaaf4ed6a90e81",
   "display_name": "Python 3.7.4 64-bit ('base': conda)"
  }
 },
 "cells": [
  {
   "cell_type": "code",
   "execution_count": 11,
   "metadata": {},
   "outputs": [],
   "source": [
    "import pandas as pd \n",
    "import numpy as np \n",
    "import matplotlib.pyplot as plt \n",
    "import seaborn as sns \n",
    "\n",
    "from pyfinmod.wacc import wacc, cost_of_debt, cost_of_equity\n",
    "from pyfinmod.financials import Financials\n",
    "\n",
    "import tabula"
   ]
  },
  {
   "cell_type": "markdown",
   "execution_count": null,
   "metadata": {},
   "outputs": [],
   "source": [
    "# 1 - What is the WACC for Marriott?"
   ]
  },
  {
   "cell_type": "markdown",
   "execution_count": null,
   "metadata": {},
   "outputs": [],
   "source": [
    "$$\n",
    "    WACC = (1-\\tau) * Cost_{debt} * (\\frac{D}{D+E}) + Cost_{equity} * (\\frac{E}{D+E})\n",
    "$$\n",
    "\n",
    "### 1987 Financial Summary of Marriott\n",
    "\n",
    "| Total Assets | Long-term Debt | Equity |\n",
    "| ------------ | -------------- | ------ |\n",
    "| 5370.5 | 2498.8 | 2871.7 |\n"
   ]
  },
  {
   "cell_type": "code",
   "execution_count": 6,
   "metadata": {},
   "outputs": [
    {
     "name": "stdout",
     "output_type": "stream",
     "text": "Value is 5370.5, Equity is 2871.7, and Debt is 2498.8. \nThe percent of Debt to Value is 0.4652825621450517, and the ratio of Debt to Equity is 0.8701466030574225\n"
    }
   ],
   "source": [
    "E = 2871.7\n",
    "D = 2498.8\n",
    "V = E+D \n",
    "\n",
    "print(f\"Value is {V}, Equity is {E}, and Debt is {D}. \\nThe percent of Debt to Value is {D/V}, and the ratio of Debt to Equity is {D/E}\")"
   ]
  },
  {
   "cell_type": "code",
   "execution_count": 8,
   "metadata": {},
   "outputs": [
    {
     "name": "stdout",
     "output_type": "stream",
     "text": "0.4409626472800201\n"
    }
   ],
   "source": [
    "tax_rate = 175.9/398.9\n",
    "d_to_v = D/V \n",
    "d_to_e = D/E \n",
    "\n",
    "print(tax_rate)"
   ]
  },
  {
   "cell_type": "code",
   "execution_count": 14,
   "metadata": {},
   "outputs": [
    {
     "data": {
      "text/html": "<div>\n<style scoped>\n    .dataframe tbody tr th:only-of-type {\n        vertical-align: middle;\n    }\n\n    .dataframe tbody tr th {\n        vertical-align: top;\n    }\n\n    .dataframe thead th {\n        text-align: right;\n    }\n</style>\n<table border=\"1\" class=\"dataframe\">\n  <thead>\n    <tr style=\"text-align: right;\">\n      <th></th>\n      <th>Unnamed: 0</th>\n      <th>1978</th>\n      <th>1979</th>\n      <th>1980</th>\n      <th>1981</th>\n      <th>1982</th>\n      <th>1983</th>\n      <th>1984</th>\n      <th>1985</th>\n      <th>1986</th>\n      <th>1987</th>\n    </tr>\n  </thead>\n  <tbody>\n    <tr>\n      <th>0</th>\n      <td>Summary of Operations</td>\n      <td>NaN</td>\n      <td>NaN</td>\n      <td>NaN</td>\n      <td>NaN</td>\n      <td>NaN</td>\n      <td>NaN</td>\n      <td>NaN</td>\n      <td>NaN</td>\n      <td>NaN</td>\n      <td>NaN</td>\n    </tr>\n    <tr>\n      <th>1</th>\n      <td>Sales</td>\n      <td>1,174.1</td>\n      <td>1,426.0</td>\n      <td>1,633.9</td>\n      <td>1,905.7</td>\n      <td>2,458.9</td>\n      <td>2,950.5</td>\n      <td>3,524.9</td>\n      <td>4,241.7</td>\n      <td>5,266.5</td>\n      <td>6,522.2</td>\n    </tr>\n    <tr>\n      <th>2</th>\n      <td>Earnings before interest expense</td>\n      <td>NaN</td>\n      <td>NaN</td>\n      <td>NaN</td>\n      <td>NaN</td>\n      <td>NaN</td>\n      <td>NaN</td>\n      <td>NaN</td>\n      <td>NaN</td>\n      <td>NaN</td>\n      <td>NaN</td>\n    </tr>\n    <tr>\n      <th>3</th>\n      <td>and income taxes</td>\n      <td>107.1</td>\n      <td>133.5</td>\n      <td>150.3</td>\n      <td>173.3</td>\n      <td>205.5</td>\n      <td>247.9</td>\n      <td>297.7</td>\n      <td>371.3</td>\n      <td>420.5</td>\n      <td>489.4</td>\n    </tr>\n    <tr>\n      <th>4</th>\n      <td>Interest expense</td>\n      <td>23.7</td>\n      <td>27.8</td>\n      <td>46.8</td>\n      <td>52.0</td>\n      <td>71.8</td>\n      <td>62.8</td>\n      <td>61.6</td>\n      <td>75.6</td>\n      <td>60.3</td>\n      <td>90.5</td>\n    </tr>\n    <tr>\n      <th>5</th>\n      <td>Income before income taxes</td>\n      <td>83.5</td>\n      <td>105.6</td>\n      <td>103.5</td>\n      <td>121.3</td>\n      <td>133.7</td>\n      <td>185.1</td>\n      <td>236.1</td>\n      <td>295.7</td>\n      <td>360.2</td>\n      <td>398.9</td>\n    </tr>\n    <tr>\n      <th>6</th>\n      <td>Income taxes</td>\n      <td>35.4</td>\n      <td>43.8</td>\n      <td>40.6</td>\n      <td>45.2</td>\n      <td>50.2</td>\n      <td>76.7</td>\n      <td>100.8</td>\n      <td>128.3</td>\n      <td>168.5</td>\n      <td>175.9</td>\n    </tr>\n    <tr>\n      <th>7</th>\n      <td>Income from continuing operationsa</td>\n      <td>48.1</td>\n      <td>61.8</td>\n      <td>62.9</td>\n      <td>76.1</td>\n      <td>83.5</td>\n      <td>108.4</td>\n      <td>135.3</td>\n      <td>167.4</td>\n      <td>191.7</td>\n      <td>223.0</td>\n    </tr>\n    <tr>\n      <th>8</th>\n      <td>Net income</td>\n      <td>54.3</td>\n      <td>71.0</td>\n      <td>72.0</td>\n      <td>86.1</td>\n      <td>94.3</td>\n      <td>115.2</td>\n      <td>139.8</td>\n      <td>167.4</td>\n      <td>191.7</td>\n      <td>223.0</td>\n    </tr>\n    <tr>\n      <th>9</th>\n      <td>Funds provided from cont. operationsb</td>\n      <td>101.2</td>\n      <td>117.5</td>\n      <td>125.8</td>\n      <td>160.8</td>\n      <td>203.6</td>\n      <td>272.7</td>\n      <td>322.5</td>\n      <td>372.3</td>\n      <td>430.3</td>\n      <td>472.8</td>\n    </tr>\n    <tr>\n      <th>10</th>\n      <td>Capitalization and Returns</td>\n      <td>NaN</td>\n      <td>NaN</td>\n      <td>NaN</td>\n      <td>NaN</td>\n      <td>NaN</td>\n      <td>NaN</td>\n      <td>NaN</td>\n      <td>NaN</td>\n      <td>NaN</td>\n      <td>NaN</td>\n    </tr>\n    <tr>\n      <th>11</th>\n      <td>Total assets</td>\n      <td>1,000.3</td>\n      <td>1,080.4</td>\n      <td>1,214.3</td>\n      <td>1,454.9</td>\n      <td>2,062.6</td>\n      <td>2,501.4</td>\n      <td>2,904.7</td>\n      <td>3,663.8</td>\n      <td>4,579.3</td>\n      <td>5,370.5</td>\n    </tr>\n    <tr>\n      <th>12</th>\n      <td>Total capitalc</td>\n      <td>826.9</td>\n      <td>891.9</td>\n      <td>977.7</td>\n      <td>1,167.5</td>\n      <td>1,634.5</td>\n      <td>2.007.5</td>\n      <td>2,330.7</td>\n      <td>2,861.4</td>\n      <td>3,561.8</td>\n      <td>4,247.8</td>\n    </tr>\n    <tr>\n      <th>13</th>\n      <td>Long-term debt</td>\n      <td>309.9</td>\n      <td>365.3</td>\n      <td>536.6</td>\n      <td>607.7</td>\n      <td>889.3</td>\n      <td>1,071.6</td>\n      <td>1,115.3</td>\n      <td>1,192.3</td>\n      <td>1,662.8</td>\n      <td>2,498.8</td>\n    </tr>\n    <tr>\n      <th>14</th>\n      <td>Percent to total capita</td>\n      <td>37.5%</td>\n      <td>41.0%</td>\n      <td>54.9%</td>\n      <td>52.1%</td>\n      <td>54.4%</td>\n      <td>53.4%</td>\n      <td>47.9%</td>\n      <td>41.7%</td>\n      <td>46.7%</td>\n      <td>58.8%</td>\n    </tr>\n    <tr>\n      <th>15</th>\n      <td>Shareholders’ equity</td>\n      <td>418.7</td>\n      <td>413.5</td>\n      <td>311.5</td>\n      <td>421.7</td>\n      <td>516.0</td>\n      <td>628.2</td>\n      <td>675.6</td>\n      <td>848.5</td>\n      <td>991.0</td>\n      <td>810.8</td>\n    </tr>\n    <tr>\n      <th>16</th>\n      <td>Per Share and Other Data</td>\n      <td>NaN</td>\n      <td>NaN</td>\n      <td>NaN</td>\n      <td>NaN</td>\n      <td>NaN</td>\n      <td>NaN</td>\n      <td>NaN</td>\n      <td>NaN</td>\n      <td>NaN</td>\n      <td>NaN</td>\n    </tr>\n    <tr>\n      <th>17</th>\n      <td>Earnings per share:</td>\n      <td>NaN</td>\n      <td>NaN</td>\n      <td>NaN</td>\n      <td>NaN</td>\n      <td>NaN</td>\n      <td>NaN</td>\n      <td>NaN</td>\n      <td>NaN</td>\n      <td>NaN</td>\n      <td>NaN</td>\n    </tr>\n    <tr>\n      <th>18</th>\n      <td>aContinuing operations</td>\n      <td>.25</td>\n      <td>.34</td>\n      <td>.45</td>\n      <td>.57</td>\n      <td>.61</td>\n      <td>.78</td>\n      <td>1.00</td>\n      <td>1.24</td>\n      <td>1.40</td>\n      <td>1.67</td>\n    </tr>\n    <tr>\n      <th>19</th>\n      <td>Net income</td>\n      <td>.29</td>\n      <td>.39</td>\n      <td>.52</td>\n      <td>.64</td>\n      <td>.69</td>\n      <td>.83</td>\n      <td>1.04</td>\n      <td>1.24</td>\n      <td>1.40</td>\n      <td>1.67</td>\n    </tr>\n    <tr>\n      <th>20</th>\n      <td>Cash dividends</td>\n      <td>.026</td>\n      <td>.034</td>\n      <td>.042</td>\n      <td>.051</td>\n      <td>.063</td>\n      <td>.076</td>\n      <td>.093</td>\n      <td>.113</td>\n      <td>.136</td>\n      <td>.17</td>\n    </tr>\n    <tr>\n      <th>21</th>\n      <td>Shareholders’ equity</td>\n      <td>2.28</td>\n      <td>2.58</td>\n      <td>2.49</td>\n      <td>3.22</td>\n      <td>3.89</td>\n      <td>4.67</td>\n      <td>5.25</td>\n      <td>6.48</td>\n      <td>7.59</td>\n      <td>6.82</td>\n    </tr>\n    <tr>\n      <th>22</th>\n      <td>Market price at year end</td>\n      <td>2.43</td>\n      <td>3.48</td>\n      <td>6.35</td>\n      <td>7.18</td>\n      <td>11.70</td>\n      <td>14.25</td>\n      <td>14.70</td>\n      <td>21.58</td>\n      <td>29.75</td>\n      <td>30.00</td>\n    </tr>\n    <tr>\n      <th>23</th>\n      <td>Shares outstanding (in millions)</td>\n      <td>183.6</td>\n      <td>160.5</td>\n      <td>125.3</td>\n      <td>130.8</td>\n      <td>132.8</td>\n      <td>134.4</td>\n      <td>128.8</td>\n      <td>131.0</td>\n      <td>130.6</td>\n      <td>118.8</td>\n    </tr>\n    <tr>\n      <th>24</th>\n      <td>Return on avg. shareholders’ equity</td>\n      <td>13.9%</td>\n      <td>17.0%</td>\n      <td>23.8%</td>\n      <td>23.4%</td>\n      <td>20.0%</td>\n      <td>20.0%</td>\n      <td>22.1%</td>\n      <td>22.1%</td>\n      <td>20.6%</td>\n      <td>22.2%</td>\n    </tr>\n  </tbody>\n</table>\n</div>",
      "text/plain": "                               Unnamed: 0     1978     1979     1980     1981  \\\n0                   Summary of Operations      NaN      NaN      NaN      NaN   \n1                                   Sales  1,174.1  1,426.0  1,633.9  1,905.7   \n2        Earnings before interest expense      NaN      NaN      NaN      NaN   \n3                        and income taxes    107.1    133.5    150.3    173.3   \n4                        Interest expense     23.7     27.8     46.8     52.0   \n5              Income before income taxes     83.5    105.6    103.5    121.3   \n6                            Income taxes     35.4     43.8     40.6     45.2   \n7      Income from continuing operationsa     48.1     61.8     62.9     76.1   \n8                              Net income     54.3     71.0     72.0     86.1   \n9   Funds provided from cont. operationsb    101.2    117.5    125.8    160.8   \n10             Capitalization and Returns      NaN      NaN      NaN      NaN   \n11                           Total assets  1,000.3  1,080.4  1,214.3  1,454.9   \n12                         Total capitalc    826.9    891.9    977.7  1,167.5   \n13                         Long-term debt    309.9    365.3    536.6    607.7   \n14                Percent to total capita    37.5%    41.0%    54.9%    52.1%   \n15                   Shareholders’ equity    418.7    413.5    311.5    421.7   \n16               Per Share and Other Data      NaN      NaN      NaN      NaN   \n17                    Earnings per share:      NaN      NaN      NaN      NaN   \n18                 aContinuing operations      .25      .34      .45      .57   \n19                             Net income      .29      .39      .52      .64   \n20                         Cash dividends     .026     .034     .042     .051   \n21                   Shareholders’ equity     2.28     2.58     2.49     3.22   \n22               Market price at year end     2.43     3.48     6.35     7.18   \n23       Shares outstanding (in millions)    183.6    160.5    125.3    130.8   \n24    Return on avg. shareholders’ equity    13.9%    17.0%    23.8%    23.4%   \n\n       1982     1983     1984     1985     1986     1987  \n0       NaN      NaN      NaN      NaN      NaN      NaN  \n1   2,458.9  2,950.5  3,524.9  4,241.7  5,266.5  6,522.2  \n2       NaN      NaN      NaN      NaN      NaN      NaN  \n3     205.5    247.9    297.7    371.3    420.5    489.4  \n4      71.8     62.8     61.6     75.6     60.3     90.5  \n5     133.7    185.1    236.1    295.7    360.2    398.9  \n6      50.2     76.7    100.8    128.3    168.5    175.9  \n7      83.5    108.4    135.3    167.4    191.7    223.0  \n8      94.3    115.2    139.8    167.4    191.7    223.0  \n9     203.6    272.7    322.5    372.3    430.3    472.8  \n10      NaN      NaN      NaN      NaN      NaN      NaN  \n11  2,062.6  2,501.4  2,904.7  3,663.8  4,579.3  5,370.5  \n12  1,634.5  2.007.5  2,330.7  2,861.4  3,561.8  4,247.8  \n13    889.3  1,071.6  1,115.3  1,192.3  1,662.8  2,498.8  \n14    54.4%    53.4%    47.9%    41.7%    46.7%    58.8%  \n15    516.0    628.2    675.6    848.5    991.0    810.8  \n16      NaN      NaN      NaN      NaN      NaN      NaN  \n17      NaN      NaN      NaN      NaN      NaN      NaN  \n18      .61      .78     1.00     1.24     1.40     1.67  \n19      .69      .83     1.04     1.24     1.40     1.67  \n20     .063     .076     .093     .113     .136      .17  \n21     3.89     4.67     5.25     6.48     7.59     6.82  \n22    11.70    14.25    14.70    21.58    29.75    30.00  \n23    132.8    134.4    128.8    131.0    130.6    118.8  \n24    20.0%    20.0%    22.1%    22.1%    20.6%    22.2%  "
     },
     "execution_count": 14,
     "metadata": {},
     "output_type": "execute_result"
    }
   ],
   "source": [
    "tabula.read_pdf(\"S2.1_ACF_Marriott Corporation.pdf\", pages=6)[0]"
   ]
  },
  {
   "cell_type": "code",
   "execution_count": 21,
   "metadata": {},
   "outputs": [
    {
     "name": "stdout",
     "output_type": "stream",
     "text": "0.5935363560189927 0.1002\n"
    }
   ],
   "source": [
    "# equity beta of Marriott is 1.11\n",
    "beta_unl = 1.11 / (1 + d_to_e)\n",
    "mar_cost_of_debt = 0.0872 + 0.013\n",
    "\n",
    "print(beta_unl, mar_cost_of_debt)"
   ]
  },
  {
   "cell_type": "code",
   "execution_count": 135,
   "metadata": {},
   "outputs": [],
   "source": [
    "def betaLeverCalc(beta_unl, debt_to_equity=0, debt_to_value=0):\n",
    "\n",
    "    if debt_to_value > 0:\n",
    "        debt_to_equity = debt_to_value / (1-debt_to_value)\n",
    "        \n",
    "        return round(beta_unl * (1+debt_to_equity), 5)\n",
    "\n",
    "    if debt_to_equity > 0:\n",
    "\n",
    "        return round(beta_unl * (1+debt_to_equity), 5)"
   ]
  },
  {
   "cell_type": "code",
   "execution_count": 69,
   "metadata": {},
   "outputs": [
    {
     "data": {
      "text/plain": "1.48375"
     },
     "execution_count": 69,
     "metadata": {},
     "output_type": "execute_result"
    }
   ],
   "source": [
    "betaLeverCalc(0.5935, debt_to_value=0.6)"
   ]
  },
  {
   "cell_type": "code",
   "execution_count": 70,
   "metadata": {},
   "outputs": [],
   "source": [
    "# relever the beta with the new target\n",
    "tgt_d_to_e = 1.5 \n",
    "\n",
    "tgt_beta_e = beta_unl * (1+tgt_d_to_e)"
   ]
  },
  {
   "cell_type": "code",
   "execution_count": 30,
   "metadata": {},
   "outputs": [
    {
     "name": "stdout",
     "output_type": "stream",
     "text": "New target equity beta is 1.4838408900474818\n"
    }
   ],
   "source": [
    "print(f\"New target equity beta is {tgt_beta_e}\")"
   ]
  },
  {
   "cell_type": "code",
   "execution_count": 36,
   "metadata": {},
   "outputs": [
    {
     "data": {
      "text/plain": "0.1974493781305279"
     },
     "execution_count": 36,
     "metadata": {},
     "output_type": "execute_result"
    }
   ],
   "source": [
    "# cost of equity \n",
    "\n",
    "cost_of_equity(tgt_beta_e, 0.0872, 0.0743+0.0872)"
   ]
  },
  {
   "cell_type": "code",
   "execution_count": 43,
   "metadata": {},
   "outputs": [
    {
     "data": {
      "text/plain": "<function pyfinmod.wacc.wacc(equity, balance_sheet, income_statement, beta, risk_free_interest_rate, market_return)>"
     },
     "execution_count": 43,
     "metadata": {},
     "output_type": "execute_result"
    }
   ],
   "source": [
    "wacc"
   ]
  },
  {
   "cell_type": "code",
   "execution_count": 44,
   "metadata": {},
   "outputs": [
    {
     "data": {
      "text/plain": "0.11258907689773635"
     },
     "execution_count": 44,
     "metadata": {},
     "output_type": "execute_result"
    }
   ],
   "source": [
    "cost_of_equity(tgt_beta_e, 0.0872, 0.0743+0.0872)*0.4 + mar_cost_of_debt*(1-tax_rate)*0.6"
   ]
  },
  {
   "cell_type": "markdown",
   "execution_count": null,
   "metadata": {},
   "outputs": [],
   "source": [
    "\n",
    "### WACC for Marriott\n",
    "11.26%"
   ]
  },
  {
   "cell_type": "markdown",
   "execution_count": null,
   "metadata": {},
   "outputs": [],
   "source": [
    "# 2 - What is the problem with using WACC of Marriott for evaluating projects in different divisions?"
   ]
  },
  {
   "cell_type": "code",
   "execution_count": null,
   "metadata": {},
   "outputs": [],
   "source": []
  },
  {
   "cell_type": "markdown",
   "execution_count": null,
   "metadata": {},
   "outputs": [],
   "source": [
    "# 3 - WACC for Lodging, Restaurant, and Contract Services"
   ]
  },
  {
   "cell_type": "code",
   "execution_count": 53,
   "metadata": {},
   "outputs": [
    {
     "data": {
      "text/html": "<div>\n<style scoped>\n    .dataframe tbody tr th:only-of-type {\n        vertical-align: middle;\n    }\n\n    .dataframe tbody tr th {\n        vertical-align: top;\n    }\n\n    .dataframe thead th {\n        text-align: right;\n    }\n</style>\n<table border=\"1\" class=\"dataframe\">\n  <thead>\n    <tr style=\"text-align: right;\">\n      <th></th>\n      <th>0</th>\n      <th>1</th>\n      <th>2</th>\n      <th>3</th>\n      <th>4</th>\n      <th>5</th>\n      <th>6</th>\n    </tr>\n  </thead>\n  <tbody>\n    <tr>\n      <th>0</th>\n      <td>Operating profit</td>\n      <td>132.6</td>\n      <td>139.7</td>\n      <td>161.2</td>\n      <td>185.8</td>\n      <td>215.7</td>\n      <td>263.9</td>\n    </tr>\n    <tr>\n      <th>1</th>\n      <td>Identifiable assets</td>\n      <td>909.7</td>\n      <td>1,264.6</td>\n      <td>1,786.3</td>\n      <td>2,108.9</td>\n      <td>2,236.7</td>\n      <td>2,777.4</td>\n    </tr>\n    <tr>\n      <th>2</th>\n      <td>Depreciation</td>\n      <td>22.7</td>\n      <td>27.4</td>\n      <td>31.3</td>\n      <td>32.4</td>\n      <td>37.1</td>\n      <td>43.9</td>\n    </tr>\n    <tr>\n      <th>3</th>\n      <td>Capital expenditures</td>\n      <td>371.5</td>\n      <td>377.2</td>\n      <td>366.4</td>\n      <td>808.3</td>\n      <td>966.6</td>\n      <td>1,241.9</td>\n    </tr>\n    <tr>\n      <th>4</th>\n      <td>Contract Services:</td>\n      <td>NaN</td>\n      <td>NaN</td>\n      <td>NaN</td>\n      <td>NaN</td>\n      <td>NaN</td>\n      <td>NaN</td>\n    </tr>\n    <tr>\n      <th>5</th>\n      <td>Sales</td>\n      <td>819.8</td>\n      <td>950.6</td>\n      <td>1,111.3</td>\n      <td>1,586.3</td>\n      <td>2,236.1</td>\n      <td>2,969.0</td>\n    </tr>\n    <tr>\n      <th>6</th>\n      <td>Operating profit</td>\n      <td>51.0</td>\n      <td>71.1</td>\n      <td>86.8</td>\n      <td>118.6</td>\n      <td>154.9</td>\n      <td>170.6</td>\n    </tr>\n    <tr>\n      <th>7</th>\n      <td>Identifiable assets</td>\n      <td>373.3</td>\n      <td>391.6</td>\n      <td>403.9</td>\n      <td>624.4</td>\n      <td>1,070.2</td>\n      <td>1,237.7</td>\n    </tr>\n    <tr>\n      <th>8</th>\n      <td>Depreciation</td>\n      <td>22.9</td>\n      <td>26.1</td>\n      <td>28.9</td>\n      <td>40.2</td>\n      <td>61.1</td>\n      <td>75.3</td>\n    </tr>\n    <tr>\n      <th>9</th>\n      <td>Capital expenditures</td>\n      <td>127.7</td>\n      <td>43.8</td>\n      <td>55.6</td>\n      <td>125.9</td>\n      <td>448.7</td>\n      <td>112.7</td>\n    </tr>\n    <tr>\n      <th>10</th>\n      <td>Restaurants:</td>\n      <td>NaN</td>\n      <td>NaN</td>\n      <td>NaN</td>\n      <td>NaN</td>\n      <td>NaN</td>\n      <td>NaN</td>\n    </tr>\n    <tr>\n      <th>11</th>\n      <td>Sales</td>\n      <td>547.4</td>\n      <td>679.4</td>\n      <td>707.0</td>\n      <td>757.0</td>\n      <td>797.3</td>\n      <td>879.9</td>\n    </tr>\n    <tr>\n      <th>12</th>\n      <td>Operating profit</td>\n      <td>48.5</td>\n      <td>63.8</td>\n      <td>79.7</td>\n      <td>78.2</td>\n      <td>79.1</td>\n      <td>82.4</td>\n    </tr>\n    <tr>\n      <th>13</th>\n      <td>Identifiable assets</td>\n      <td>452.2</td>\n      <td>483.0</td>\n      <td>496.7</td>\n      <td>582.6</td>\n      <td>562.3</td>\n      <td>567.6</td>\n    </tr>\n    <tr>\n      <th>14</th>\n      <td>Depreciation</td>\n      <td>25.1</td>\n      <td>31.8</td>\n      <td>35.5</td>\n      <td>34.8</td>\n      <td>38.1</td>\n      <td>42.1</td>\n    </tr>\n    <tr>\n      <th>15</th>\n      <td>Capital expenditures</td>\n      <td>199.6</td>\n      <td>65.0</td>\n      <td>72.3</td>\n      <td>128.4</td>\n      <td>64.0</td>\n      <td>79.6</td>\n    </tr>\n  </tbody>\n</table>\n</div>",
      "text/plain": "                       0      1        2        3        4        5        6\n0       Operating profit  132.6    139.7    161.2    185.8    215.7    263.9\n1    Identifiable assets  909.7  1,264.6  1,786.3  2,108.9  2,236.7  2,777.4\n2           Depreciation   22.7     27.4     31.3     32.4     37.1     43.9\n3   Capital expenditures  371.5    377.2    366.4    808.3    966.6  1,241.9\n4     Contract Services:    NaN      NaN      NaN      NaN      NaN      NaN\n5                  Sales  819.8    950.6  1,111.3  1,586.3  2,236.1  2,969.0\n6       Operating profit   51.0     71.1     86.8    118.6    154.9    170.6\n7    Identifiable assets  373.3    391.6    403.9    624.4  1,070.2  1,237.7\n8           Depreciation   22.9     26.1     28.9     40.2     61.1     75.3\n9   Capital expenditures  127.7     43.8     55.6    125.9    448.7    112.7\n10          Restaurants:    NaN      NaN      NaN      NaN      NaN      NaN\n11                 Sales  547.4    679.4    707.0    757.0    797.3    879.9\n12      Operating profit   48.5     63.8     79.7     78.2     79.1     82.4\n13   Identifiable assets  452.2    483.0    496.7    582.6    562.3    567.6\n14          Depreciation   25.1     31.8     35.5     34.8     38.1     42.1\n15  Capital expenditures  199.6     65.0     72.3    128.4     64.0     79.6"
     },
     "execution_count": 53,
     "metadata": {},
     "output_type": "execute_result"
    }
   ],
   "source": [
    "tabula.read_pdf(\"S2.1_ACF_Marriott Corporation.pdf\", pages=7, pandas_options={\"header\":None})[0]"
   ]
  },
  {
   "cell_type": "code",
   "execution_count": 54,
   "metadata": {},
   "outputs": [],
   "source": [
    "lodging = {\n",
    "    \"id_assets\": 2777.4\n",
    "}\n",
    "\n",
    "contract_services = {\n",
    "    \"id_assets\": 1237.7\n",
    "}\n",
    "\n",
    "restaurants = {\n",
    "    \"id_assets\": 567.6\n",
    "}"
   ]
  },
  {
   "cell_type": "code",
   "execution_count": 74,
   "metadata": {},
   "outputs": [
    {
     "data": {
      "text/html": "<div>\n<style scoped>\n    .dataframe tbody tr th:only-of-type {\n        vertical-align: middle;\n    }\n\n    .dataframe tbody tr th {\n        vertical-align: top;\n    }\n\n    .dataframe thead th {\n        text-align: right;\n    }\n</style>\n<table border=\"1\" class=\"dataframe\">\n  <thead>\n    <tr style=\"text-align: right;\">\n      <th></th>\n      <th>0</th>\n      <th>1</th>\n      <th>2</th>\n      <th>3</th>\n      <th>4</th>\n    </tr>\n  </thead>\n  <tbody>\n    <tr>\n      <th>3</th>\n      <td>MARRIOTT CORPORATION</td>\n      <td>22.4%</td>\n      <td>1.11</td>\n      <td>41%</td>\n      <td>6.52</td>\n    </tr>\n    <tr>\n      <th>7</th>\n      <td>HILTON HOTELS CORPORATION</td>\n      <td>13.3</td>\n      <td>.76</td>\n      <td>14%</td>\n      <td>0.77</td>\n    </tr>\n    <tr>\n      <th>9</th>\n      <td>HOLIDAY CORPORATION</td>\n      <td>28.8</td>\n      <td>1.35</td>\n      <td>79%</td>\n      <td>1.66</td>\n    </tr>\n    <tr>\n      <th>12</th>\n      <td>LA QUINTA MOTOR INNS</td>\n      <td>-6.4</td>\n      <td>.89</td>\n      <td>69%</td>\n      <td>0.17</td>\n    </tr>\n    <tr>\n      <th>14</th>\n      <td>RAMADA INNS, INC.</td>\n      <td>11.7</td>\n      <td>1.36</td>\n      <td>65%</td>\n      <td>0.75</td>\n    </tr>\n    <tr>\n      <th>17</th>\n      <td>CHURCH’S FRIED CHICKEN</td>\n      <td>-3.2</td>\n      <td>1.45</td>\n      <td>4%</td>\n      <td>0.39</td>\n    </tr>\n    <tr>\n      <th>20</th>\n      <td>COLLINS FOODS INTERNATIONAL</td>\n      <td>20.3</td>\n      <td>1.45</td>\n      <td>10%</td>\n      <td>0.57</td>\n    </tr>\n    <tr>\n      <th>23</th>\n      <td>FRISCH’S RESTAURANTS</td>\n      <td>56.9</td>\n      <td>.57</td>\n      <td>6%</td>\n      <td>0.14</td>\n    </tr>\n    <tr>\n      <th>25</th>\n      <td>LUBY’S CAFETERIAS</td>\n      <td>15.1</td>\n      <td>.76</td>\n      <td>1%</td>\n      <td>0.23</td>\n    </tr>\n    <tr>\n      <th>27</th>\n      <td>McDONALD’S</td>\n      <td>22.5</td>\n      <td>.94</td>\n      <td>23%</td>\n      <td>4.89</td>\n    </tr>\n    <tr>\n      <th>29</th>\n      <td>WENDY’S INTERNATIONAL</td>\n      <td>4.6</td>\n      <td>1.32</td>\n      <td>21%</td>\n      <td>1.05</td>\n    </tr>\n  </tbody>\n</table>\n</div>",
      "text/plain": "                              0      1     2    3     4\n3          MARRIOTT CORPORATION  22.4%  1.11  41%  6.52\n7     HILTON HOTELS CORPORATION   13.3   .76  14%  0.77\n9           HOLIDAY CORPORATION   28.8  1.35  79%  1.66\n12         LA QUINTA MOTOR INNS   -6.4   .89  69%  0.17\n14            RAMADA INNS, INC.   11.7  1.36  65%  0.75\n17       CHURCH’S FRIED CHICKEN   -3.2  1.45   4%  0.39\n20  COLLINS FOODS INTERNATIONAL   20.3  1.45  10%  0.57\n23         FRISCH’S RESTAURANTS   56.9   .57   6%  0.14\n25            LUBY’S CAFETERIAS   15.1   .76   1%  0.23\n27                   McDONALD’S   22.5   .94  23%  4.89\n29        WENDY’S INTERNATIONAL    4.6  1.32  21%  1.05"
     },
     "execution_count": 74,
     "metadata": {},
     "output_type": "execute_result"
    }
   ],
   "source": [
    "tabula.read_pdf(\"S2.1_ACF_Marriott Corporation.pdf\", pages=8, pandas_options={\"header\":None})[0].dropna()"
   ]
  },
  {
   "cell_type": "code",
   "execution_count": 123,
   "metadata": {},
   "outputs": [],
   "source": [
    "df = tabula.read_pdf(\"S2.1_ACF_Marriott Corporation.pdf\", pages=8, pandas_options={\"header\":None})[0].dropna()\n"
   ]
  },
  {
   "cell_type": "code",
   "execution_count": 83,
   "metadata": {},
   "outputs": [],
   "source": [
    "hotels = df.iloc[[1,2,3,4],:]\n",
    "restaurants = hotesl = df.iloc[[5,6,7,8,9, 10],:]"
   ]
  },
  {
   "cell_type": "code",
   "execution_count": 84,
   "metadata": {},
   "outputs": [
    {
     "data": {
      "text/html": "<div>\n<style scoped>\n    .dataframe tbody tr th:only-of-type {\n        vertical-align: middle;\n    }\n\n    .dataframe tbody tr th {\n        vertical-align: top;\n    }\n\n    .dataframe thead th {\n        text-align: right;\n    }\n</style>\n<table border=\"1\" class=\"dataframe\">\n  <thead>\n    <tr style=\"text-align: right;\">\n      <th></th>\n      <th>0</th>\n      <th>1</th>\n      <th>2</th>\n      <th>3</th>\n      <th>4</th>\n    </tr>\n  </thead>\n  <tbody>\n    <tr>\n      <th>7</th>\n      <td>HILTON HOTELS CORPORATION</td>\n      <td>13.3</td>\n      <td>.76</td>\n      <td>14%</td>\n      <td>0.77</td>\n    </tr>\n    <tr>\n      <th>9</th>\n      <td>HOLIDAY CORPORATION</td>\n      <td>28.8</td>\n      <td>1.35</td>\n      <td>79%</td>\n      <td>1.66</td>\n    </tr>\n    <tr>\n      <th>12</th>\n      <td>LA QUINTA MOTOR INNS</td>\n      <td>-6.4</td>\n      <td>.89</td>\n      <td>69%</td>\n      <td>0.17</td>\n    </tr>\n    <tr>\n      <th>14</th>\n      <td>RAMADA INNS, INC.</td>\n      <td>11.7</td>\n      <td>1.36</td>\n      <td>65%</td>\n      <td>0.75</td>\n    </tr>\n  </tbody>\n</table>\n</div>",
      "text/plain": "                            0     1     2    3     4\n7   HILTON HOTELS CORPORATION  13.3   .76  14%  0.77\n9         HOLIDAY CORPORATION  28.8  1.35  79%  1.66\n12       LA QUINTA MOTOR INNS  -6.4   .89  69%  0.17\n14          RAMADA INNS, INC.  11.7  1.36  65%  0.75"
     },
     "execution_count": 84,
     "metadata": {},
     "output_type": "execute_result"
    }
   ],
   "source": [
    "hotels"
   ]
  },
  {
   "cell_type": "code",
   "execution_count": 85,
   "metadata": {},
   "outputs": [
    {
     "data": {
      "text/html": "<div>\n<style scoped>\n    .dataframe tbody tr th:only-of-type {\n        vertical-align: middle;\n    }\n\n    .dataframe tbody tr th {\n        vertical-align: top;\n    }\n\n    .dataframe thead th {\n        text-align: right;\n    }\n</style>\n<table border=\"1\" class=\"dataframe\">\n  <thead>\n    <tr style=\"text-align: right;\">\n      <th></th>\n      <th>0</th>\n      <th>1</th>\n      <th>2</th>\n      <th>3</th>\n      <th>4</th>\n    </tr>\n  </thead>\n  <tbody>\n    <tr>\n      <th>17</th>\n      <td>CHURCH’S FRIED CHICKEN</td>\n      <td>-3.2</td>\n      <td>1.45</td>\n      <td>4%</td>\n      <td>0.39</td>\n    </tr>\n    <tr>\n      <th>20</th>\n      <td>COLLINS FOODS INTERNATIONAL</td>\n      <td>20.3</td>\n      <td>1.45</td>\n      <td>10%</td>\n      <td>0.57</td>\n    </tr>\n    <tr>\n      <th>23</th>\n      <td>FRISCH’S RESTAURANTS</td>\n      <td>56.9</td>\n      <td>.57</td>\n      <td>6%</td>\n      <td>0.14</td>\n    </tr>\n    <tr>\n      <th>25</th>\n      <td>LUBY’S CAFETERIAS</td>\n      <td>15.1</td>\n      <td>.76</td>\n      <td>1%</td>\n      <td>0.23</td>\n    </tr>\n    <tr>\n      <th>27</th>\n      <td>McDONALD’S</td>\n      <td>22.5</td>\n      <td>.94</td>\n      <td>23%</td>\n      <td>4.89</td>\n    </tr>\n    <tr>\n      <th>29</th>\n      <td>WENDY’S INTERNATIONAL</td>\n      <td>4.6</td>\n      <td>1.32</td>\n      <td>21%</td>\n      <td>1.05</td>\n    </tr>\n  </tbody>\n</table>\n</div>",
      "text/plain": "                              0     1     2    3     4\n17       CHURCH’S FRIED CHICKEN  -3.2  1.45   4%  0.39\n20  COLLINS FOODS INTERNATIONAL  20.3  1.45  10%  0.57\n23         FRISCH’S RESTAURANTS  56.9   .57   6%  0.14\n25            LUBY’S CAFETERIAS  15.1   .76   1%  0.23\n27                   McDONALD’S  22.5   .94  23%  4.89\n29        WENDY’S INTERNATIONAL   4.6  1.32  21%  1.05"
     },
     "execution_count": 85,
     "metadata": {},
     "output_type": "execute_result"
    }
   ],
   "source": [
    "restaurants"
   ]
  },
  {
   "cell_type": "code",
   "execution_count": 105,
   "metadata": {},
   "outputs": [
    {
     "name": "stderr",
     "output_type": "stream",
     "text": "/home/xuren/miniconda3/lib/python3.7/site-packages/pandas/core/frame.py:4238: SettingWithCopyWarning: \nA value is trying to be set on a copy of a slice from a DataFrame\n\nSee the caveats in the documentation: http://pandas.pydata.org/pandas-docs/stable/user_guide/indexing.html#returning-a-view-versus-a-copy\n  return super().rename(**kwargs)\n"
    }
   ],
   "source": [
    "hotels.rename(columns={2:\"equity_beta\"}, inplace=True)"
   ]
  },
  {
   "cell_type": "code",
   "execution_count": 107,
   "metadata": {},
   "outputs": [
    {
     "name": "stderr",
     "output_type": "stream",
     "text": "/home/xuren/miniconda3/lib/python3.7/site-packages/pandas/core/frame.py:4238: SettingWithCopyWarning: \nA value is trying to be set on a copy of a slice from a DataFrame\n\nSee the caveats in the documentation: http://pandas.pydata.org/pandas-docs/stable/user_guide/indexing.html#returning-a-view-versus-a-copy\n  return super().rename(**kwargs)\n"
    }
   ],
   "source": [
    "hotels.rename(columns={3: \"market_leverage\"}, inplace=True)"
   ]
  },
  {
   "cell_type": "code",
   "execution_count": 109,
   "metadata": {},
   "outputs": [
    {
     "name": "stderr",
     "output_type": "stream",
     "text": "/home/xuren/miniconda3/lib/python3.7/site-packages/ipykernel_launcher.py:1: SettingWithCopyWarning: \nA value is trying to be set on a copy of a slice from a DataFrame.\nTry using .loc[row_indexer,col_indexer] = value instead\n\nSee the caveats in the documentation: http://pandas.pydata.org/pandas-docs/stable/user_guide/indexing.html#returning-a-view-versus-a-copy\n  \"\"\"Entry point for launching an IPython kernel.\n"
    }
   ],
   "source": [
    "hotels[\"market_leverage\"] = hotels.apply(lambda row: float(row[\"market_leverage\"].replace(\"%\", \"\"))/100, axis=1)"
   ]
  },
  {
   "cell_type": "code",
   "execution_count": 110,
   "metadata": {},
   "outputs": [
    {
     "data": {
      "text/html": "<div>\n<style scoped>\n    .dataframe tbody tr th:only-of-type {\n        vertical-align: middle;\n    }\n\n    .dataframe tbody tr th {\n        vertical-align: top;\n    }\n\n    .dataframe thead th {\n        text-align: right;\n    }\n</style>\n<table border=\"1\" class=\"dataframe\">\n  <thead>\n    <tr style=\"text-align: right;\">\n      <th></th>\n      <th>0</th>\n      <th>1</th>\n      <th>equity_beta</th>\n      <th>market_leverage</th>\n      <th>4</th>\n    </tr>\n  </thead>\n  <tbody>\n    <tr>\n      <th>7</th>\n      <td>HILTON HOTELS CORPORATION</td>\n      <td>13.3</td>\n      <td>.76</td>\n      <td>0.14</td>\n      <td>0.77</td>\n    </tr>\n    <tr>\n      <th>9</th>\n      <td>HOLIDAY CORPORATION</td>\n      <td>28.8</td>\n      <td>1.35</td>\n      <td>0.79</td>\n      <td>1.66</td>\n    </tr>\n    <tr>\n      <th>12</th>\n      <td>LA QUINTA MOTOR INNS</td>\n      <td>-6.4</td>\n      <td>.89</td>\n      <td>0.69</td>\n      <td>0.17</td>\n    </tr>\n    <tr>\n      <th>14</th>\n      <td>RAMADA INNS, INC.</td>\n      <td>11.7</td>\n      <td>1.36</td>\n      <td>0.65</td>\n      <td>0.75</td>\n    </tr>\n  </tbody>\n</table>\n</div>",
      "text/plain": "                            0     1 equity_beta  market_leverage     4\n7   HILTON HOTELS CORPORATION  13.3         .76             0.14  0.77\n9         HOLIDAY CORPORATION  28.8        1.35             0.79  1.66\n12       LA QUINTA MOTOR INNS  -6.4         .89             0.69  0.17\n14          RAMADA INNS, INC.  11.7        1.36             0.65  0.75"
     },
     "execution_count": 110,
     "metadata": {},
     "output_type": "execute_result"
    }
   ],
   "source": [
    "hotels"
   ]
  },
  {
   "cell_type": "code",
   "execution_count": 113,
   "metadata": {},
   "outputs": [
    {
     "name": "stderr",
     "output_type": "stream",
     "text": "/home/xuren/miniconda3/lib/python3.7/site-packages/ipykernel_launcher.py:1: SettingWithCopyWarning: \nA value is trying to be set on a copy of a slice from a DataFrame.\nTry using .loc[row_indexer,col_indexer] = value instead\n\nSee the caveats in the documentation: http://pandas.pydata.org/pandas-docs/stable/user_guide/indexing.html#returning-a-view-versus-a-copy\n  \"\"\"Entry point for launching an IPython kernel.\n"
    }
   ],
   "source": [
    "hotels[\"debt_to_equity\"] = hotels.apply(lambda row: row[\"market_leverage\"] / (1-row[\"market_leverage\"]), axis=1)"
   ]
  },
  {
   "cell_type": "code",
   "execution_count": 114,
   "metadata": {},
   "outputs": [
    {
     "data": {
      "text/html": "<div>\n<style scoped>\n    .dataframe tbody tr th:only-of-type {\n        vertical-align: middle;\n    }\n\n    .dataframe tbody tr th {\n        vertical-align: top;\n    }\n\n    .dataframe thead th {\n        text-align: right;\n    }\n</style>\n<table border=\"1\" class=\"dataframe\">\n  <thead>\n    <tr style=\"text-align: right;\">\n      <th></th>\n      <th>0</th>\n      <th>1</th>\n      <th>equity_beta</th>\n      <th>market_leverage</th>\n      <th>4</th>\n      <th>debt_to_equity</th>\n    </tr>\n  </thead>\n  <tbody>\n    <tr>\n      <th>7</th>\n      <td>HILTON HOTELS CORPORATION</td>\n      <td>13.3</td>\n      <td>.76</td>\n      <td>0.14</td>\n      <td>0.77</td>\n      <td>0.162791</td>\n    </tr>\n    <tr>\n      <th>9</th>\n      <td>HOLIDAY CORPORATION</td>\n      <td>28.8</td>\n      <td>1.35</td>\n      <td>0.79</td>\n      <td>1.66</td>\n      <td>3.761905</td>\n    </tr>\n    <tr>\n      <th>12</th>\n      <td>LA QUINTA MOTOR INNS</td>\n      <td>-6.4</td>\n      <td>.89</td>\n      <td>0.69</td>\n      <td>0.17</td>\n      <td>2.225806</td>\n    </tr>\n    <tr>\n      <th>14</th>\n      <td>RAMADA INNS, INC.</td>\n      <td>11.7</td>\n      <td>1.36</td>\n      <td>0.65</td>\n      <td>0.75</td>\n      <td>1.857143</td>\n    </tr>\n  </tbody>\n</table>\n</div>",
      "text/plain": "                            0     1 equity_beta  market_leverage     4  \\\n7   HILTON HOTELS CORPORATION  13.3         .76             0.14  0.77   \n9         HOLIDAY CORPORATION  28.8        1.35             0.79  1.66   \n12       LA QUINTA MOTOR INNS  -6.4         .89             0.69  0.17   \n14          RAMADA INNS, INC.  11.7        1.36             0.65  0.75   \n\n    debt_to_equity  \n7         0.162791  \n9         3.761905  \n12        2.225806  \n14        1.857143  "
     },
     "execution_count": 114,
     "metadata": {},
     "output_type": "execute_result"
    }
   ],
   "source": [
    "hotels"
   ]
  },
  {
   "cell_type": "code",
   "execution_count": 118,
   "metadata": {},
   "outputs": [
    {
     "name": "stderr",
     "output_type": "stream",
     "text": "/home/xuren/miniconda3/lib/python3.7/site-packages/ipykernel_launcher.py:1: SettingWithCopyWarning: \nA value is trying to be set on a copy of a slice from a DataFrame.\nTry using .loc[row_indexer,col_indexer] = value instead\n\nSee the caveats in the documentation: http://pandas.pydata.org/pandas-docs/stable/user_guide/indexing.html#returning-a-view-versus-a-copy\n  \"\"\"Entry point for launching an IPython kernel.\n"
    }
   ],
   "source": [
    "hotels[\"unlevered_beta\"] = hotels.apply(lambda row: float(row[\"equity_beta\"]) / (row[\"debt_to_equity\"] + 1), axis=1)"
   ]
  },
  {
   "cell_type": "code",
   "execution_count": 119,
   "metadata": {},
   "outputs": [
    {
     "data": {
      "text/html": "<div>\n<style scoped>\n    .dataframe tbody tr th:only-of-type {\n        vertical-align: middle;\n    }\n\n    .dataframe tbody tr th {\n        vertical-align: top;\n    }\n\n    .dataframe thead th {\n        text-align: right;\n    }\n</style>\n<table border=\"1\" class=\"dataframe\">\n  <thead>\n    <tr style=\"text-align: right;\">\n      <th></th>\n      <th>0</th>\n      <th>1</th>\n      <th>equity_beta</th>\n      <th>market_leverage</th>\n      <th>4</th>\n      <th>debt_to_equity</th>\n      <th>unlevered_beta</th>\n    </tr>\n  </thead>\n  <tbody>\n    <tr>\n      <th>7</th>\n      <td>HILTON HOTELS CORPORATION</td>\n      <td>13.3</td>\n      <td>.76</td>\n      <td>0.14</td>\n      <td>0.77</td>\n      <td>0.162791</td>\n      <td>0.6536</td>\n    </tr>\n    <tr>\n      <th>9</th>\n      <td>HOLIDAY CORPORATION</td>\n      <td>28.8</td>\n      <td>1.35</td>\n      <td>0.79</td>\n      <td>1.66</td>\n      <td>3.761905</td>\n      <td>0.2835</td>\n    </tr>\n    <tr>\n      <th>12</th>\n      <td>LA QUINTA MOTOR INNS</td>\n      <td>-6.4</td>\n      <td>.89</td>\n      <td>0.69</td>\n      <td>0.17</td>\n      <td>2.225806</td>\n      <td>0.2759</td>\n    </tr>\n    <tr>\n      <th>14</th>\n      <td>RAMADA INNS, INC.</td>\n      <td>11.7</td>\n      <td>1.36</td>\n      <td>0.65</td>\n      <td>0.75</td>\n      <td>1.857143</td>\n      <td>0.4760</td>\n    </tr>\n  </tbody>\n</table>\n</div>",
      "text/plain": "                            0     1 equity_beta  market_leverage     4  \\\n7   HILTON HOTELS CORPORATION  13.3         .76             0.14  0.77   \n9         HOLIDAY CORPORATION  28.8        1.35             0.79  1.66   \n12       LA QUINTA MOTOR INNS  -6.4         .89             0.69  0.17   \n14          RAMADA INNS, INC.  11.7        1.36             0.65  0.75   \n\n    debt_to_equity  unlevered_beta  \n7         0.162791          0.6536  \n9         3.761905          0.2835  \n12        2.225806          0.2759  \n14        1.857143          0.4760  "
     },
     "execution_count": 119,
     "metadata": {},
     "output_type": "execute_result"
    }
   ],
   "source": [
    "hotels"
   ]
  },
  {
   "cell_type": "code",
   "execution_count": 120,
   "metadata": {},
   "outputs": [
    {
     "data": {
      "text/plain": "0.42225"
     },
     "execution_count": 120,
     "metadata": {},
     "output_type": "execute_result"
    }
   ],
   "source": [
    "hotels.unlevered_beta.mean()"
   ]
  },
  {
   "cell_type": "code",
   "execution_count": 126,
   "metadata": {},
   "outputs": [
    {
     "data": {
      "text/plain": "1.62404"
     },
     "execution_count": 126,
     "metadata": {},
     "output_type": "execute_result"
    }
   ],
   "source": [
    "betaLeverCalc(0.42225, debt_to_value=0.74) # levered beta for lodging"
   ]
  },
  {
   "cell_type": "code",
   "execution_count": 127,
   "metadata": {},
   "outputs": [
    {
     "name": "stderr",
     "output_type": "stream",
     "text": "/home/xuren/miniconda3/lib/python3.7/site-packages/pandas/core/frame.py:4238: SettingWithCopyWarning: \nA value is trying to be set on a copy of a slice from a DataFrame\n\nSee the caveats in the documentation: http://pandas.pydata.org/pandas-docs/stable/user_guide/indexing.html#returning-a-view-versus-a-copy\n  return super().rename(**kwargs)\n/home/xuren/miniconda3/lib/python3.7/site-packages/ipykernel_launcher.py:2: SettingWithCopyWarning: \nA value is trying to be set on a copy of a slice from a DataFrame.\nTry using .loc[row_indexer,col_indexer] = value instead\n\nSee the caveats in the documentation: http://pandas.pydata.org/pandas-docs/stable/user_guide/indexing.html#returning-a-view-versus-a-copy\n  \n/home/xuren/miniconda3/lib/python3.7/site-packages/ipykernel_launcher.py:3: SettingWithCopyWarning: \nA value is trying to be set on a copy of a slice from a DataFrame.\nTry using .loc[row_indexer,col_indexer] = value instead\n\nSee the caveats in the documentation: http://pandas.pydata.org/pandas-docs/stable/user_guide/indexing.html#returning-a-view-versus-a-copy\n  This is separate from the ipykernel package so we can avoid doing imports until\n"
    }
   ],
   "source": [
    "restaurants.rename(columns={2: \"equity_beta\", 3: \"market_leverage\"}, inplace=True)\n",
    "restaurants[\"market_leverage\"] = restaurants.apply(lambda row: float(row[\"market_leverage\"].replace(\"%\", \"\"))/100, axis=1)\n",
    "restaurants[\"debt_to_equity\"] = restaurants.apply(lambda row: row[\"market_leverage\"] / (1-row[\"market_leverage\"]), axis=1)\n"
   ]
  },
  {
   "cell_type": "code",
   "execution_count": 130,
   "metadata": {},
   "outputs": [
    {
     "name": "stderr",
     "output_type": "stream",
     "text": "/home/xuren/miniconda3/lib/python3.7/site-packages/ipykernel_launcher.py:1: SettingWithCopyWarning: \nA value is trying to be set on a copy of a slice from a DataFrame.\nTry using .loc[row_indexer,col_indexer] = value instead\n\nSee the caveats in the documentation: http://pandas.pydata.org/pandas-docs/stable/user_guide/indexing.html#returning-a-view-versus-a-copy\n  \"\"\"Entry point for launching an IPython kernel.\n"
    }
   ],
   "source": [
    "restaurants[\"unlevered_beta\"] = restaurants.apply(lambda row: float(row[\"equity_beta\"]) / (row[\"debt_to_equity\"] + 1), axis=1)"
   ]
  },
  {
   "cell_type": "code",
   "execution_count": 131,
   "metadata": {},
   "outputs": [
    {
     "data": {
      "text/html": "<div>\n<style scoped>\n    .dataframe tbody tr th:only-of-type {\n        vertical-align: middle;\n    }\n\n    .dataframe tbody tr th {\n        vertical-align: top;\n    }\n\n    .dataframe thead th {\n        text-align: right;\n    }\n</style>\n<table border=\"1\" class=\"dataframe\">\n  <thead>\n    <tr style=\"text-align: right;\">\n      <th></th>\n      <th>0</th>\n      <th>1</th>\n      <th>equity_beta</th>\n      <th>market_leverage</th>\n      <th>4</th>\n      <th>debt_to_equity</th>\n      <th>unlevered_beta</th>\n    </tr>\n  </thead>\n  <tbody>\n    <tr>\n      <th>17</th>\n      <td>CHURCH’S FRIED CHICKEN</td>\n      <td>-3.2</td>\n      <td>1.45</td>\n      <td>0.04</td>\n      <td>0.39</td>\n      <td>0.041667</td>\n      <td>1.3920</td>\n    </tr>\n    <tr>\n      <th>20</th>\n      <td>COLLINS FOODS INTERNATIONAL</td>\n      <td>20.3</td>\n      <td>1.45</td>\n      <td>0.10</td>\n      <td>0.57</td>\n      <td>0.111111</td>\n      <td>1.3050</td>\n    </tr>\n    <tr>\n      <th>23</th>\n      <td>FRISCH’S RESTAURANTS</td>\n      <td>56.9</td>\n      <td>.57</td>\n      <td>0.06</td>\n      <td>0.14</td>\n      <td>0.063830</td>\n      <td>0.5358</td>\n    </tr>\n    <tr>\n      <th>25</th>\n      <td>LUBY’S CAFETERIAS</td>\n      <td>15.1</td>\n      <td>.76</td>\n      <td>0.01</td>\n      <td>0.23</td>\n      <td>0.010101</td>\n      <td>0.7524</td>\n    </tr>\n    <tr>\n      <th>27</th>\n      <td>McDONALD’S</td>\n      <td>22.5</td>\n      <td>.94</td>\n      <td>0.23</td>\n      <td>4.89</td>\n      <td>0.298701</td>\n      <td>0.7238</td>\n    </tr>\n    <tr>\n      <th>29</th>\n      <td>WENDY’S INTERNATIONAL</td>\n      <td>4.6</td>\n      <td>1.32</td>\n      <td>0.21</td>\n      <td>1.05</td>\n      <td>0.265823</td>\n      <td>1.0428</td>\n    </tr>\n  </tbody>\n</table>\n</div>",
      "text/plain": "                              0     1 equity_beta  market_leverage     4  \\\n17       CHURCH’S FRIED CHICKEN  -3.2        1.45             0.04  0.39   \n20  COLLINS FOODS INTERNATIONAL  20.3        1.45             0.10  0.57   \n23         FRISCH’S RESTAURANTS  56.9         .57             0.06  0.14   \n25            LUBY’S CAFETERIAS  15.1         .76             0.01  0.23   \n27                   McDONALD’S  22.5         .94             0.23  4.89   \n29        WENDY’S INTERNATIONAL   4.6        1.32             0.21  1.05   \n\n    debt_to_equity  unlevered_beta  \n17        0.041667          1.3920  \n20        0.111111          1.3050  \n23        0.063830          0.5358  \n25        0.010101          0.7524  \n27        0.298701          0.7238  \n29        0.265823          1.0428  "
     },
     "execution_count": 131,
     "metadata": {},
     "output_type": "execute_result"
    }
   ],
   "source": [
    "restaurants"
   ]
  },
  {
   "cell_type": "code",
   "execution_count": 132,
   "metadata": {},
   "outputs": [
    {
     "data": {
      "text/plain": "0.9586333333333332"
     },
     "execution_count": 132,
     "metadata": {},
     "output_type": "execute_result"
    }
   ],
   "source": [
    "restaurants.unlevered_beta.mean()"
   ]
  },
  {
   "cell_type": "code",
   "execution_count": 138,
   "metadata": {},
   "outputs": [
    {
     "data": {
      "text/plain": "1.65281"
     },
     "execution_count": 138,
     "metadata": {},
     "output_type": "execute_result"
    }
   ],
   "source": [
    "betaLeverCalc(0.95863, debt_to_value=0.42) # levered beta for restaurants"
   ]
  },
  {
   "cell_type": "code",
   "execution_count": 145,
   "metadata": {},
   "outputs": [],
   "source": [
    "lod_assets = 2777 \t                      \n",
    "cs_assets = 1238 \t                         \n",
    "res_assets = 568 "
   ]
  },
  {
   "cell_type": "code",
   "execution_count": 146,
   "metadata": {},
   "outputs": [],
   "source": [
    "tot_assets = lod_assets + cs_assets + res_assets"
   ]
  },
  {
   "cell_type": "code",
   "execution_count": 147,
   "metadata": {},
   "outputs": [
    {
     "data": {
      "text/plain": "4583"
     },
     "execution_count": 147,
     "metadata": {},
     "output_type": "execute_result"
    }
   ],
   "source": [
    "tot_assets"
   ]
  },
  {
   "cell_type": "code",
   "execution_count": 148,
   "metadata": {},
   "outputs": [
    {
     "data": {
      "text/plain": "(0.6059349770892428, 0.27012873663539166, 0.12393628627536549)"
     },
     "execution_count": 148,
     "metadata": {},
     "output_type": "execute_result"
    }
   ],
   "source": [
    "lod_assets/tot_assets, cs_assets/tot_assets, res_assets/tot_assets"
   ]
  },
  {
   "cell_type": "code",
   "execution_count": 149,
   "metadata": {},
   "outputs": [
    {
     "data": {
      "text/plain": "0.37330173248963555"
     },
     "execution_count": 149,
     "metadata": {},
     "output_type": "execute_result"
    }
   ],
   "source": [
    "lod_assets/tot_assets * 0.42 + res_assets/tot_assets * 0.95863"
   ]
  },
  {
   "cell_type": "code",
   "execution_count": 150,
   "metadata": {},
   "outputs": [
    {
     "data": {
      "text/plain": "0.21669799999999995"
     },
     "execution_count": 150,
     "metadata": {},
     "output_type": "execute_result"
    }
   ],
   "source": [
    "0.59-0.373302"
   ]
  },
  {
   "cell_type": "code",
   "execution_count": 151,
   "metadata": {},
   "outputs": [
    {
     "data": {
      "text/plain": "0.8022093148088506"
     },
     "execution_count": 151,
     "metadata": {},
     "output_type": "execute_result"
    }
   ],
   "source": [
    "0.2167/0.270129"
   ]
  },
  {
   "cell_type": "code",
   "execution_count": 152,
   "metadata": {},
   "outputs": [],
   "source": [
    "cs_unlevered_beta = 0.8022"
   ]
  },
  {
   "cell_type": "code",
   "execution_count": 154,
   "metadata": {},
   "outputs": [
    {
     "data": {
      "text/plain": "1.337"
     },
     "execution_count": 154,
     "metadata": {},
     "output_type": "execute_result"
    }
   ],
   "source": [
    "betaLeverCalc(0.8022, debt_to_value=0.4)"
   ]
  },
  {
   "cell_type": "code",
   "execution_count": 155,
   "metadata": {},
   "outputs": [
    {
     "data": {
      "text/plain": "0.1865391"
     },
     "execution_count": 155,
     "metadata": {},
     "output_type": "execute_result"
    }
   ],
   "source": [
    "cost_of_equity(1.337, 0.0872, 0.0743+0.0872)"
   ]
  },
  {
   "cell_type": "code",
   "execution_count": null,
   "metadata": {},
   "outputs": [],
   "source": []
  }
 ]
}